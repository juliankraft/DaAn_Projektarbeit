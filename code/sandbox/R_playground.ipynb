{
 "cells": [
  {
   "cell_type": "code",
   "execution_count": 1,
   "metadata": {
    "vscode": {
     "languageId": "r"
    }
   },
   "outputs": [
    {
     "name": "stderr",
     "output_type": "stream",
     "text": [
      "── \u001b[1mAttaching core tidyverse packages\u001b[22m ──────────────────────── tidyverse 2.0.0 ──\n",
      "\u001b[32m✔\u001b[39m \u001b[34mdplyr    \u001b[39m 1.1.4     \u001b[32m✔\u001b[39m \u001b[34mreadr    \u001b[39m 2.1.5\n",
      "\u001b[32m✔\u001b[39m \u001b[34mforcats  \u001b[39m 1.0.0     \u001b[32m✔\u001b[39m \u001b[34mstringr  \u001b[39m 1.5.1\n",
      "\u001b[32m✔\u001b[39m \u001b[34mggplot2  \u001b[39m 3.5.1     \u001b[32m✔\u001b[39m \u001b[34mtibble   \u001b[39m 3.2.1\n",
      "\u001b[32m✔\u001b[39m \u001b[34mlubridate\u001b[39m 1.9.3     \u001b[32m✔\u001b[39m \u001b[34mtidyr    \u001b[39m 1.3.1\n",
      "\u001b[32m✔\u001b[39m \u001b[34mpurrr    \u001b[39m 1.0.2     \n",
      "── \u001b[1mConflicts\u001b[22m ────────────────────────────────────────── tidyverse_conflicts() ──\n",
      "\u001b[31m✖\u001b[39m \u001b[34mdplyr\u001b[39m::\u001b[32mfilter()\u001b[39m masks \u001b[34mstats\u001b[39m::filter()\n",
      "\u001b[31m✖\u001b[39m \u001b[34mdplyr\u001b[39m::\u001b[32mlag()\u001b[39m    masks \u001b[34mstats\u001b[39m::lag()\n",
      "\u001b[36mℹ\u001b[39m Use the conflicted package (\u001b[3m\u001b[34m<http://conflicted.r-lib.org/>\u001b[39m\u001b[23m) to force all conflicts to become errors\n"
     ]
    }
   ],
   "source": [
    "library(tidyverse)"
   ]
  },
  {
   "cell_type": "markdown",
   "metadata": {},
   "source": [
    "### Daten Bezug"
   ]
  },
  {
   "cell_type": "code",
   "execution_count": 3,
   "metadata": {
    "vscode": {
     "languageId": "r"
    }
   },
   "outputs": [
    {
     "name": "stderr",
     "output_type": "stream",
     "text": [
      "\u001b[1mRows: \u001b[22m\u001b[34m1330771\u001b[39m \u001b[1mColumns: \u001b[22m\u001b[34m34\u001b[39m\n",
      "\u001b[36m──\u001b[39m \u001b[1mColumn specification\u001b[22m \u001b[36m────────────────────────────────────────────────────────\u001b[39m\n",
      "\u001b[1mDelimiter:\u001b[22m \",\"\n",
      "\u001b[31mchr\u001b[39m  (6): betriebsdatum, halt_kurz_von1, datum_von, halt_kurz_nach1, datum_n...\n",
      "\u001b[32mdbl\u001b[39m (28): linie, richtung, fahrzeug, kurs, seq_von, halt_diva_von, halt_punk...\n",
      "\n",
      "\u001b[36mℹ\u001b[39m Use `spec()` to retrieve the full column specification for this data.\n",
      "\u001b[36mℹ\u001b[39m Specify the column types or set `show_col_types = FALSE` to quiet this message.\n"
     ]
    }
   ],
   "source": [
    "# url = \"https://data.stadt-zuerich.ch/dataset/vbz_fahrzeiten_ogd_2020/download/Fahrzeiten_SOLL_IST_20201227_20210102.csv\"\n",
    "\n",
    "# df = read_csv(url)"
   ]
  },
  {
   "cell_type": "markdown",
   "metadata": {},
   "source": [
    "### Daten auswertung"
   ]
  },
  {
   "cell_type": "code",
   "execution_count": 66,
   "metadata": {
    "vscode": {
     "languageId": "r"
    }
   },
   "outputs": [
    {
     "name": "stderr",
     "output_type": "stream",
     "text": [
      "\u001b[1mRows: \u001b[22m\u001b[34m631428\u001b[39m \u001b[1mColumns: \u001b[22m\u001b[34m6\u001b[39m\n",
      "\u001b[36m──\u001b[39m \u001b[1mColumn specification\u001b[22m \u001b[36m────────────────────────────────────────────────────────\u001b[39m\n",
      "\u001b[1mDelimiter:\u001b[22m \",\"\n",
      "\u001b[31mchr\u001b[39m (1): betriebsdatum\n",
      "\u001b[32mdbl\u001b[39m (5): linie, fahrzeug, soll_an_von, verspaetung, halt_id_von\n",
      "\n",
      "\u001b[36mℹ\u001b[39m Use `spec()` to retrieve the full column specification for this data.\n",
      "\u001b[36mℹ\u001b[39m Specify the column types or set `show_col_types = FALSE` to quiet this message.\n"
     ]
    },
    {
     "data": {
      "text/html": [
       "<table class=\"dataframe\">\n",
       "<caption>A tibble: 631428 × 8</caption>\n",
       "<thead>\n",
       "\t<tr><th scope=col>linie</th><th scope=col>betriebsdatum</th><th scope=col>fahrzeug</th><th scope=col>soll_an_von</th><th scope=col>verspaetung</th><th scope=col>halt_id_von</th><th scope=col>hour</th><th scope=col>tramtyp_id</th></tr>\n",
       "\t<tr><th scope=col>&lt;dbl&gt;</th><th scope=col>&lt;date&gt;</th><th scope=col>&lt;dbl&gt;</th><th scope=col>&lt;time&gt;</th><th scope=col>&lt;dbl&gt;</th><th scope=col>&lt;dbl&gt;</th><th scope=col>&lt;int&gt;</th><th scope=col>&lt;fct&gt;</th></tr>\n",
       "</thead>\n",
       "<tbody>\n",
       "\t<tr><td> 3</td><td>2016-01-07</td><td>3024</td><td>16:09:12</td><td> -3</td><td>2640</td><td>16</td><td>3</td></tr>\n",
       "\t<tr><td> 2</td><td>2016-01-07</td><td>2059</td><td>16:32:12</td><td> 26</td><td>2253</td><td>16</td><td>2</td></tr>\n",
       "\t<tr><td> 2</td><td>2016-01-07</td><td>2070</td><td>05:57:54</td><td> 25</td><td>2245</td><td> 5</td><td>2</td></tr>\n",
       "\t<tr><td> 2</td><td>2016-01-07</td><td>3032</td><td>17:48:18</td><td>-48</td><td>1306</td><td>17</td><td>3</td></tr>\n",
       "\t<tr><td> 4</td><td>2016-01-07</td><td>3056</td><td>16:10:54</td><td>-23</td><td>1542</td><td>16</td><td>3</td></tr>\n",
       "\t<tr><td>17</td><td>2016-01-09</td><td>3031</td><td>00:38:48</td><td>102</td><td>2705</td><td> 0</td><td>3</td></tr>\n",
       "\t<tr><td>17</td><td>2016-01-09</td><td>3005</td><td>15:51:24</td><td>-24</td><td>1574</td><td>15</td><td>3</td></tr>\n",
       "\t<tr><td>17</td><td>2016-01-09</td><td>3005</td><td>23:00:36</td><td>  8</td><td>2538</td><td>23</td><td>3</td></tr>\n",
       "\t<tr><td> 2</td><td>2016-01-06</td><td>2067</td><td>00:25:00</td><td> -8</td><td>2788</td><td> 0</td><td>2</td></tr>\n",
       "\t<tr><td> 3</td><td>2016-01-07</td><td>3024</td><td>15:48:12</td><td>-32</td><td>2641</td><td>15</td><td>3</td></tr>\n",
       "\t<tr><td> 2</td><td>2016-01-07</td><td>3038</td><td>14:02:48</td><td> 15</td><td>1528</td><td>14</td><td>3</td></tr>\n",
       "\t<tr><td> 2</td><td>2016-01-07</td><td>3039</td><td>21:26:18</td><td>-54</td><td>1502</td><td>21</td><td>3</td></tr>\n",
       "\t<tr><td> 2</td><td>2016-01-07</td><td>2083</td><td>17:48:36</td><td> 18</td><td>2228</td><td>17</td><td>2</td></tr>\n",
       "\t<tr><td> 4</td><td>2016-01-07</td><td>3056</td><td>15:57:18</td><td>  2</td><td>2575</td><td>15</td><td>3</td></tr>\n",
       "\t<tr><td>17</td><td>2016-01-09</td><td>3014</td><td>18:53:42</td><td> 36</td><td>2294</td><td>18</td><td>3</td></tr>\n",
       "\t<tr><td>17</td><td>2016-01-09</td><td>2057</td><td>11:58:54</td><td>-48</td><td>2580</td><td>11</td><td>2</td></tr>\n",
       "\t<tr><td>17</td><td>2016-01-09</td><td>3025</td><td>15:25:30</td><td>  4</td><td>2645</td><td>15</td><td>3</td></tr>\n",
       "\t<tr><td> 2</td><td>2016-01-06</td><td>2070</td><td>20:35:06</td><td> 10</td><td>1565</td><td>20</td><td>2</td></tr>\n",
       "\t<tr><td> 3</td><td>2016-01-07</td><td>3025</td><td>21:46:24</td><td>195</td><td>1502</td><td>21</td><td>3</td></tr>\n",
       "\t<tr><td> 2</td><td>2016-01-07</td><td>2070</td><td>11:00:00</td><td>-46</td><td>2250</td><td>11</td><td>2</td></tr>\n",
       "\t<tr><td> 2</td><td>2016-01-07</td><td>3008</td><td>08:14:12</td><td>-12</td><td>2818</td><td> 8</td><td>3</td></tr>\n",
       "\t<tr><td> 2</td><td>2016-01-07</td><td>3038</td><td>21:33:36</td><td> 31</td><td>2535</td><td>21</td><td>3</td></tr>\n",
       "\t<tr><td> 4</td><td>2016-01-07</td><td>2064</td><td>21:52:12</td><td> 53</td><td>1542</td><td>21</td><td>2</td></tr>\n",
       "\t<tr><td>17</td><td>2016-01-09</td><td>3014</td><td>16:01:00</td><td>-68</td><td>2705</td><td>16</td><td>3</td></tr>\n",
       "\t<tr><td>17</td><td>2016-01-09</td><td>3014</td><td>20:03:12</td><td>105</td><td>2572</td><td>20</td><td>3</td></tr>\n",
       "\t<tr><td>17</td><td>2016-01-09</td><td>2071</td><td>12:00:42</td><td> -5</td><td>2289</td><td>12</td><td>2</td></tr>\n",
       "\t<tr><td> 4</td><td>2016-01-06</td><td>2064</td><td>19:58:12</td><td>  7</td><td>2740</td><td>19</td><td>2</td></tr>\n",
       "\t<tr><td> 3</td><td>2016-01-07</td><td>2080</td><td>17:47:54</td><td>  1</td><td>2641</td><td>17</td><td>2</td></tr>\n",
       "\t<tr><td> 2</td><td>2016-01-07</td><td>3039</td><td>18:44:06</td><td>-12</td><td>2535</td><td>18</td><td>3</td></tr>\n",
       "\t<tr><td> 2</td><td>2016-01-07</td><td>2079</td><td>16:07:30</td><td>-16</td><td>2651</td><td>16</td><td>2</td></tr>\n",
       "\t<tr><td>⋮</td><td>⋮</td><td>⋮</td><td>⋮</td><td>⋮</td><td>⋮</td><td>⋮</td><td>⋮</td></tr>\n",
       "\t<tr><td>10</td><td>2016-01-05</td><td>3075</td><td>19:36:24</td><td> 76</td><td>1379</td><td>19</td><td>3</td></tr>\n",
       "\t<tr><td>10</td><td>2016-01-05</td><td>3066</td><td>12:20:36</td><td>-26</td><td>2258</td><td>12</td><td>3</td></tr>\n",
       "\t<tr><td>10</td><td>2016-01-05</td><td>3066</td><td>12:10:30</td><td>-32</td><td>1816</td><td>12</td><td>3</td></tr>\n",
       "\t<tr><td>10</td><td>2016-01-05</td><td>3064</td><td>17:52:30</td><td> 72</td><td> 588</td><td>17</td><td>3</td></tr>\n",
       "\t<tr><td>10</td><td>2016-01-05</td><td>3062</td><td>17:40:12</td><td>109</td><td>2293</td><td>17</td><td>3</td></tr>\n",
       "\t<tr><td>10</td><td>2016-01-05</td><td>3077</td><td>12:01:30</td><td> -4</td><td>1377</td><td>12</td><td>3</td></tr>\n",
       "\t<tr><td>10</td><td>2016-01-05</td><td>3072</td><td>09:19:30</td><td> 19</td><td>1308</td><td> 9</td><td>3</td></tr>\n",
       "\t<tr><td> 7</td><td>2016-01-04</td><td>2114</td><td>07:48:54</td><td>149</td><td>2025</td><td> 7</td><td>2</td></tr>\n",
       "\t<tr><td> 6</td><td>2016-01-07</td><td>2099</td><td>19:17:00</td><td> 29</td><td>2799</td><td>19</td><td>2</td></tr>\n",
       "\t<tr><td> 6</td><td>2016-01-07</td><td>2109</td><td>19:05:30</td><td> 31</td><td>2845</td><td>19</td><td>2</td></tr>\n",
       "\t<tr><td>17</td><td>2016-01-07</td><td>2071</td><td>16:36:24</td><td>-41</td><td>1574</td><td>16</td><td>2</td></tr>\n",
       "\t<tr><td>17</td><td>2016-01-07</td><td>2084</td><td>13:27:12</td><td> 19</td><td>2572</td><td>13</td><td>2</td></tr>\n",
       "\t<tr><td>17</td><td>2016-01-07</td><td>2076</td><td>19:20:54</td><td>  6</td><td>2290</td><td>19</td><td>2</td></tr>\n",
       "\t<tr><td>17</td><td>2016-01-07</td><td>3013</td><td>22:11:00</td><td>-60</td><td>2538</td><td>22</td><td>3</td></tr>\n",
       "\t<tr><td> 6</td><td>2016-01-05</td><td>3022</td><td>22:16:48</td><td> -1</td><td>2799</td><td>22</td><td>3</td></tr>\n",
       "\t<tr><td>17</td><td>2016-01-05</td><td>2085</td><td>10:45:42</td><td>-23</td><td>2289</td><td>10</td><td>2</td></tr>\n",
       "\t<tr><td>17</td><td>2016-01-05</td><td>2085</td><td>12:43:24</td><td> 55</td><td>1542</td><td>12</td><td>2</td></tr>\n",
       "\t<tr><td>17</td><td>2016-01-05</td><td>2083</td><td>20:01:48</td><td> -8</td><td>2538</td><td>20</td><td>2</td></tr>\n",
       "\t<tr><td>17</td><td>2016-01-05</td><td>2085</td><td>06:23:42</td><td>-24</td><td>2705</td><td> 6</td><td>2</td></tr>\n",
       "\t<tr><td>17</td><td>2016-01-05</td><td>2071</td><td>19:10:06</td><td> 69</td><td>2750</td><td>19</td><td>2</td></tr>\n",
       "\t<tr><td>17</td><td>2016-01-05</td><td>2083</td><td>18:56:42</td><td>-38</td><td>2572</td><td>18</td><td>2</td></tr>\n",
       "\t<tr><td>17</td><td>2016-01-05</td><td>2073</td><td>11:55:48</td><td> -8</td><td>1895</td><td>11</td><td>2</td></tr>\n",
       "\t<tr><td> 4</td><td>2016-01-07</td><td>2081</td><td>15:43:00</td><td>393</td><td>1938</td><td>15</td><td>2</td></tr>\n",
       "\t<tr><td> 4</td><td>2016-01-04</td><td>3087</td><td>22:18:12</td><td>-11</td><td>2740</td><td>22</td><td>3</td></tr>\n",
       "\t<tr><td>13</td><td>2016-01-04</td><td>3011</td><td>18:44:24</td><td>100</td><td>2550</td><td>18</td><td>3</td></tr>\n",
       "\t<tr><td> 6</td><td>2016-01-07</td><td>2119</td><td>22:52:42</td><td> 50</td><td>2791</td><td>22</td><td>2</td></tr>\n",
       "\t<tr><td>17</td><td>2016-01-07</td><td>2084</td><td>11:13:24</td><td> -6</td><td>1542</td><td>11</td><td>2</td></tr>\n",
       "\t<tr><td>17</td><td>2016-01-07</td><td>3002</td><td>21:28:00</td><td> 11</td><td>1816</td><td>21</td><td>3</td></tr>\n",
       "\t<tr><td>17</td><td>2016-01-07</td><td>2076</td><td>14:54:00</td><td>-25</td><td>2705</td><td>14</td><td>2</td></tr>\n",
       "\t<tr><td>17</td><td>2016-01-07</td><td>2071</td><td>09:23:00</td><td>  8</td><td>1816</td><td> 9</td><td>2</td></tr>\n",
       "</tbody>\n",
       "</table>\n"
      ],
      "text/latex": [
       "A tibble: 631428 × 8\n",
       "\\begin{tabular}{llllllll}\n",
       " linie & betriebsdatum & fahrzeug & soll\\_an\\_von & verspaetung & halt\\_id\\_von & hour & tramtyp\\_id\\\\\n",
       " <dbl> & <date> & <dbl> & <time> & <dbl> & <dbl> & <int> & <fct>\\\\\n",
       "\\hline\n",
       "\t  3 & 2016-01-07 & 3024 & 16:09:12 &  -3 & 2640 & 16 & 3\\\\\n",
       "\t  2 & 2016-01-07 & 2059 & 16:32:12 &  26 & 2253 & 16 & 2\\\\\n",
       "\t  2 & 2016-01-07 & 2070 & 05:57:54 &  25 & 2245 &  5 & 2\\\\\n",
       "\t  2 & 2016-01-07 & 3032 & 17:48:18 & -48 & 1306 & 17 & 3\\\\\n",
       "\t  4 & 2016-01-07 & 3056 & 16:10:54 & -23 & 1542 & 16 & 3\\\\\n",
       "\t 17 & 2016-01-09 & 3031 & 00:38:48 & 102 & 2705 &  0 & 3\\\\\n",
       "\t 17 & 2016-01-09 & 3005 & 15:51:24 & -24 & 1574 & 15 & 3\\\\\n",
       "\t 17 & 2016-01-09 & 3005 & 23:00:36 &   8 & 2538 & 23 & 3\\\\\n",
       "\t  2 & 2016-01-06 & 2067 & 00:25:00 &  -8 & 2788 &  0 & 2\\\\\n",
       "\t  3 & 2016-01-07 & 3024 & 15:48:12 & -32 & 2641 & 15 & 3\\\\\n",
       "\t  2 & 2016-01-07 & 3038 & 14:02:48 &  15 & 1528 & 14 & 3\\\\\n",
       "\t  2 & 2016-01-07 & 3039 & 21:26:18 & -54 & 1502 & 21 & 3\\\\\n",
       "\t  2 & 2016-01-07 & 2083 & 17:48:36 &  18 & 2228 & 17 & 2\\\\\n",
       "\t  4 & 2016-01-07 & 3056 & 15:57:18 &   2 & 2575 & 15 & 3\\\\\n",
       "\t 17 & 2016-01-09 & 3014 & 18:53:42 &  36 & 2294 & 18 & 3\\\\\n",
       "\t 17 & 2016-01-09 & 2057 & 11:58:54 & -48 & 2580 & 11 & 2\\\\\n",
       "\t 17 & 2016-01-09 & 3025 & 15:25:30 &   4 & 2645 & 15 & 3\\\\\n",
       "\t  2 & 2016-01-06 & 2070 & 20:35:06 &  10 & 1565 & 20 & 2\\\\\n",
       "\t  3 & 2016-01-07 & 3025 & 21:46:24 & 195 & 1502 & 21 & 3\\\\\n",
       "\t  2 & 2016-01-07 & 2070 & 11:00:00 & -46 & 2250 & 11 & 2\\\\\n",
       "\t  2 & 2016-01-07 & 3008 & 08:14:12 & -12 & 2818 &  8 & 3\\\\\n",
       "\t  2 & 2016-01-07 & 3038 & 21:33:36 &  31 & 2535 & 21 & 3\\\\\n",
       "\t  4 & 2016-01-07 & 2064 & 21:52:12 &  53 & 1542 & 21 & 2\\\\\n",
       "\t 17 & 2016-01-09 & 3014 & 16:01:00 & -68 & 2705 & 16 & 3\\\\\n",
       "\t 17 & 2016-01-09 & 3014 & 20:03:12 & 105 & 2572 & 20 & 3\\\\\n",
       "\t 17 & 2016-01-09 & 2071 & 12:00:42 &  -5 & 2289 & 12 & 2\\\\\n",
       "\t  4 & 2016-01-06 & 2064 & 19:58:12 &   7 & 2740 & 19 & 2\\\\\n",
       "\t  3 & 2016-01-07 & 2080 & 17:47:54 &   1 & 2641 & 17 & 2\\\\\n",
       "\t  2 & 2016-01-07 & 3039 & 18:44:06 & -12 & 2535 & 18 & 3\\\\\n",
       "\t  2 & 2016-01-07 & 2079 & 16:07:30 & -16 & 2651 & 16 & 2\\\\\n",
       "\t ⋮ & ⋮ & ⋮ & ⋮ & ⋮ & ⋮ & ⋮ & ⋮\\\\\n",
       "\t 10 & 2016-01-05 & 3075 & 19:36:24 &  76 & 1379 & 19 & 3\\\\\n",
       "\t 10 & 2016-01-05 & 3066 & 12:20:36 & -26 & 2258 & 12 & 3\\\\\n",
       "\t 10 & 2016-01-05 & 3066 & 12:10:30 & -32 & 1816 & 12 & 3\\\\\n",
       "\t 10 & 2016-01-05 & 3064 & 17:52:30 &  72 &  588 & 17 & 3\\\\\n",
       "\t 10 & 2016-01-05 & 3062 & 17:40:12 & 109 & 2293 & 17 & 3\\\\\n",
       "\t 10 & 2016-01-05 & 3077 & 12:01:30 &  -4 & 1377 & 12 & 3\\\\\n",
       "\t 10 & 2016-01-05 & 3072 & 09:19:30 &  19 & 1308 &  9 & 3\\\\\n",
       "\t  7 & 2016-01-04 & 2114 & 07:48:54 & 149 & 2025 &  7 & 2\\\\\n",
       "\t  6 & 2016-01-07 & 2099 & 19:17:00 &  29 & 2799 & 19 & 2\\\\\n",
       "\t  6 & 2016-01-07 & 2109 & 19:05:30 &  31 & 2845 & 19 & 2\\\\\n",
       "\t 17 & 2016-01-07 & 2071 & 16:36:24 & -41 & 1574 & 16 & 2\\\\\n",
       "\t 17 & 2016-01-07 & 2084 & 13:27:12 &  19 & 2572 & 13 & 2\\\\\n",
       "\t 17 & 2016-01-07 & 2076 & 19:20:54 &   6 & 2290 & 19 & 2\\\\\n",
       "\t 17 & 2016-01-07 & 3013 & 22:11:00 & -60 & 2538 & 22 & 3\\\\\n",
       "\t  6 & 2016-01-05 & 3022 & 22:16:48 &  -1 & 2799 & 22 & 3\\\\\n",
       "\t 17 & 2016-01-05 & 2085 & 10:45:42 & -23 & 2289 & 10 & 2\\\\\n",
       "\t 17 & 2016-01-05 & 2085 & 12:43:24 &  55 & 1542 & 12 & 2\\\\\n",
       "\t 17 & 2016-01-05 & 2083 & 20:01:48 &  -8 & 2538 & 20 & 2\\\\\n",
       "\t 17 & 2016-01-05 & 2085 & 06:23:42 & -24 & 2705 &  6 & 2\\\\\n",
       "\t 17 & 2016-01-05 & 2071 & 19:10:06 &  69 & 2750 & 19 & 2\\\\\n",
       "\t 17 & 2016-01-05 & 2083 & 18:56:42 & -38 & 2572 & 18 & 2\\\\\n",
       "\t 17 & 2016-01-05 & 2073 & 11:55:48 &  -8 & 1895 & 11 & 2\\\\\n",
       "\t  4 & 2016-01-07 & 2081 & 15:43:00 & 393 & 1938 & 15 & 2\\\\\n",
       "\t  4 & 2016-01-04 & 3087 & 22:18:12 & -11 & 2740 & 22 & 3\\\\\n",
       "\t 13 & 2016-01-04 & 3011 & 18:44:24 & 100 & 2550 & 18 & 3\\\\\n",
       "\t  6 & 2016-01-07 & 2119 & 22:52:42 &  50 & 2791 & 22 & 2\\\\\n",
       "\t 17 & 2016-01-07 & 2084 & 11:13:24 &  -6 & 1542 & 11 & 2\\\\\n",
       "\t 17 & 2016-01-07 & 3002 & 21:28:00 &  11 & 1816 & 21 & 3\\\\\n",
       "\t 17 & 2016-01-07 & 2076 & 14:54:00 & -25 & 2705 & 14 & 2\\\\\n",
       "\t 17 & 2016-01-07 & 2071 & 09:23:00 &   8 & 1816 &  9 & 2\\\\\n",
       "\\end{tabular}\n"
      ],
      "text/markdown": [
       "\n",
       "A tibble: 631428 × 8\n",
       "\n",
       "| linie &lt;dbl&gt; | betriebsdatum &lt;date&gt; | fahrzeug &lt;dbl&gt; | soll_an_von &lt;time&gt; | verspaetung &lt;dbl&gt; | halt_id_von &lt;dbl&gt; | hour &lt;int&gt; | tramtyp_id &lt;fct&gt; |\n",
       "|---|---|---|---|---|---|---|---|\n",
       "|  3 | 2016-01-07 | 3024 | 16:09:12 |  -3 | 2640 | 16 | 3 |\n",
       "|  2 | 2016-01-07 | 2059 | 16:32:12 |  26 | 2253 | 16 | 2 |\n",
       "|  2 | 2016-01-07 | 2070 | 05:57:54 |  25 | 2245 |  5 | 2 |\n",
       "|  2 | 2016-01-07 | 3032 | 17:48:18 | -48 | 1306 | 17 | 3 |\n",
       "|  4 | 2016-01-07 | 3056 | 16:10:54 | -23 | 1542 | 16 | 3 |\n",
       "| 17 | 2016-01-09 | 3031 | 00:38:48 | 102 | 2705 |  0 | 3 |\n",
       "| 17 | 2016-01-09 | 3005 | 15:51:24 | -24 | 1574 | 15 | 3 |\n",
       "| 17 | 2016-01-09 | 3005 | 23:00:36 |   8 | 2538 | 23 | 3 |\n",
       "|  2 | 2016-01-06 | 2067 | 00:25:00 |  -8 | 2788 |  0 | 2 |\n",
       "|  3 | 2016-01-07 | 3024 | 15:48:12 | -32 | 2641 | 15 | 3 |\n",
       "|  2 | 2016-01-07 | 3038 | 14:02:48 |  15 | 1528 | 14 | 3 |\n",
       "|  2 | 2016-01-07 | 3039 | 21:26:18 | -54 | 1502 | 21 | 3 |\n",
       "|  2 | 2016-01-07 | 2083 | 17:48:36 |  18 | 2228 | 17 | 2 |\n",
       "|  4 | 2016-01-07 | 3056 | 15:57:18 |   2 | 2575 | 15 | 3 |\n",
       "| 17 | 2016-01-09 | 3014 | 18:53:42 |  36 | 2294 | 18 | 3 |\n",
       "| 17 | 2016-01-09 | 2057 | 11:58:54 | -48 | 2580 | 11 | 2 |\n",
       "| 17 | 2016-01-09 | 3025 | 15:25:30 |   4 | 2645 | 15 | 3 |\n",
       "|  2 | 2016-01-06 | 2070 | 20:35:06 |  10 | 1565 | 20 | 2 |\n",
       "|  3 | 2016-01-07 | 3025 | 21:46:24 | 195 | 1502 | 21 | 3 |\n",
       "|  2 | 2016-01-07 | 2070 | 11:00:00 | -46 | 2250 | 11 | 2 |\n",
       "|  2 | 2016-01-07 | 3008 | 08:14:12 | -12 | 2818 |  8 | 3 |\n",
       "|  2 | 2016-01-07 | 3038 | 21:33:36 |  31 | 2535 | 21 | 3 |\n",
       "|  4 | 2016-01-07 | 2064 | 21:52:12 |  53 | 1542 | 21 | 2 |\n",
       "| 17 | 2016-01-09 | 3014 | 16:01:00 | -68 | 2705 | 16 | 3 |\n",
       "| 17 | 2016-01-09 | 3014 | 20:03:12 | 105 | 2572 | 20 | 3 |\n",
       "| 17 | 2016-01-09 | 2071 | 12:00:42 |  -5 | 2289 | 12 | 2 |\n",
       "|  4 | 2016-01-06 | 2064 | 19:58:12 |   7 | 2740 | 19 | 2 |\n",
       "|  3 | 2016-01-07 | 2080 | 17:47:54 |   1 | 2641 | 17 | 2 |\n",
       "|  2 | 2016-01-07 | 3039 | 18:44:06 | -12 | 2535 | 18 | 3 |\n",
       "|  2 | 2016-01-07 | 2079 | 16:07:30 | -16 | 2651 | 16 | 2 |\n",
       "| ⋮ | ⋮ | ⋮ | ⋮ | ⋮ | ⋮ | ⋮ | ⋮ |\n",
       "| 10 | 2016-01-05 | 3075 | 19:36:24 |  76 | 1379 | 19 | 3 |\n",
       "| 10 | 2016-01-05 | 3066 | 12:20:36 | -26 | 2258 | 12 | 3 |\n",
       "| 10 | 2016-01-05 | 3066 | 12:10:30 | -32 | 1816 | 12 | 3 |\n",
       "| 10 | 2016-01-05 | 3064 | 17:52:30 |  72 |  588 | 17 | 3 |\n",
       "| 10 | 2016-01-05 | 3062 | 17:40:12 | 109 | 2293 | 17 | 3 |\n",
       "| 10 | 2016-01-05 | 3077 | 12:01:30 |  -4 | 1377 | 12 | 3 |\n",
       "| 10 | 2016-01-05 | 3072 | 09:19:30 |  19 | 1308 |  9 | 3 |\n",
       "|  7 | 2016-01-04 | 2114 | 07:48:54 | 149 | 2025 |  7 | 2 |\n",
       "|  6 | 2016-01-07 | 2099 | 19:17:00 |  29 | 2799 | 19 | 2 |\n",
       "|  6 | 2016-01-07 | 2109 | 19:05:30 |  31 | 2845 | 19 | 2 |\n",
       "| 17 | 2016-01-07 | 2071 | 16:36:24 | -41 | 1574 | 16 | 2 |\n",
       "| 17 | 2016-01-07 | 2084 | 13:27:12 |  19 | 2572 | 13 | 2 |\n",
       "| 17 | 2016-01-07 | 2076 | 19:20:54 |   6 | 2290 | 19 | 2 |\n",
       "| 17 | 2016-01-07 | 3013 | 22:11:00 | -60 | 2538 | 22 | 3 |\n",
       "|  6 | 2016-01-05 | 3022 | 22:16:48 |  -1 | 2799 | 22 | 3 |\n",
       "| 17 | 2016-01-05 | 2085 | 10:45:42 | -23 | 2289 | 10 | 2 |\n",
       "| 17 | 2016-01-05 | 2085 | 12:43:24 |  55 | 1542 | 12 | 2 |\n",
       "| 17 | 2016-01-05 | 2083 | 20:01:48 |  -8 | 2538 | 20 | 2 |\n",
       "| 17 | 2016-01-05 | 2085 | 06:23:42 | -24 | 2705 |  6 | 2 |\n",
       "| 17 | 2016-01-05 | 2071 | 19:10:06 |  69 | 2750 | 19 | 2 |\n",
       "| 17 | 2016-01-05 | 2083 | 18:56:42 | -38 | 2572 | 18 | 2 |\n",
       "| 17 | 2016-01-05 | 2073 | 11:55:48 |  -8 | 1895 | 11 | 2 |\n",
       "|  4 | 2016-01-07 | 2081 | 15:43:00 | 393 | 1938 | 15 | 2 |\n",
       "|  4 | 2016-01-04 | 3087 | 22:18:12 | -11 | 2740 | 22 | 3 |\n",
       "| 13 | 2016-01-04 | 3011 | 18:44:24 | 100 | 2550 | 18 | 3 |\n",
       "|  6 | 2016-01-07 | 2119 | 22:52:42 |  50 | 2791 | 22 | 2 |\n",
       "| 17 | 2016-01-07 | 2084 | 11:13:24 |  -6 | 1542 | 11 | 2 |\n",
       "| 17 | 2016-01-07 | 3002 | 21:28:00 |  11 | 1816 | 21 | 3 |\n",
       "| 17 | 2016-01-07 | 2076 | 14:54:00 | -25 | 2705 | 14 | 2 |\n",
       "| 17 | 2016-01-07 | 2071 | 09:23:00 |   8 | 1816 |  9 | 2 |\n",
       "\n"
      ],
      "text/plain": [
       "       linie betriebsdatum fahrzeug soll_an_von verspaetung halt_id_von hour\n",
       "1       3    2016-01-07    3024     16:09:12     -3         2640        16  \n",
       "2       2    2016-01-07    2059     16:32:12     26         2253        16  \n",
       "3       2    2016-01-07    2070     05:57:54     25         2245         5  \n",
       "4       2    2016-01-07    3032     17:48:18    -48         1306        17  \n",
       "5       4    2016-01-07    3056     16:10:54    -23         1542        16  \n",
       "6      17    2016-01-09    3031     00:38:48    102         2705         0  \n",
       "7      17    2016-01-09    3005     15:51:24    -24         1574        15  \n",
       "8      17    2016-01-09    3005     23:00:36      8         2538        23  \n",
       "9       2    2016-01-06    2067     00:25:00     -8         2788         0  \n",
       "10      3    2016-01-07    3024     15:48:12    -32         2641        15  \n",
       "11      2    2016-01-07    3038     14:02:48     15         1528        14  \n",
       "12      2    2016-01-07    3039     21:26:18    -54         1502        21  \n",
       "13      2    2016-01-07    2083     17:48:36     18         2228        17  \n",
       "14      4    2016-01-07    3056     15:57:18      2         2575        15  \n",
       "15     17    2016-01-09    3014     18:53:42     36         2294        18  \n",
       "16     17    2016-01-09    2057     11:58:54    -48         2580        11  \n",
       "17     17    2016-01-09    3025     15:25:30      4         2645        15  \n",
       "18      2    2016-01-06    2070     20:35:06     10         1565        20  \n",
       "19      3    2016-01-07    3025     21:46:24    195         1502        21  \n",
       "20      2    2016-01-07    2070     11:00:00    -46         2250        11  \n",
       "21      2    2016-01-07    3008     08:14:12    -12         2818         8  \n",
       "22      2    2016-01-07    3038     21:33:36     31         2535        21  \n",
       "23      4    2016-01-07    2064     21:52:12     53         1542        21  \n",
       "24     17    2016-01-09    3014     16:01:00    -68         2705        16  \n",
       "25     17    2016-01-09    3014     20:03:12    105         2572        20  \n",
       "26     17    2016-01-09    2071     12:00:42     -5         2289        12  \n",
       "27      4    2016-01-06    2064     19:58:12      7         2740        19  \n",
       "28      3    2016-01-07    2080     17:47:54      1         2641        17  \n",
       "29      2    2016-01-07    3039     18:44:06    -12         2535        18  \n",
       "30      2    2016-01-07    2079     16:07:30    -16         2651        16  \n",
       "⋮      ⋮     ⋮             ⋮        ⋮           ⋮           ⋮           ⋮   \n",
       "631399 10    2016-01-05    3075     19:36:24     76         1379        19  \n",
       "631400 10    2016-01-05    3066     12:20:36    -26         2258        12  \n",
       "631401 10    2016-01-05    3066     12:10:30    -32         1816        12  \n",
       "631402 10    2016-01-05    3064     17:52:30     72          588        17  \n",
       "631403 10    2016-01-05    3062     17:40:12    109         2293        17  \n",
       "631404 10    2016-01-05    3077     12:01:30     -4         1377        12  \n",
       "631405 10    2016-01-05    3072     09:19:30     19         1308         9  \n",
       "631406  7    2016-01-04    2114     07:48:54    149         2025         7  \n",
       "631407  6    2016-01-07    2099     19:17:00     29         2799        19  \n",
       "631408  6    2016-01-07    2109     19:05:30     31         2845        19  \n",
       "631409 17    2016-01-07    2071     16:36:24    -41         1574        16  \n",
       "631410 17    2016-01-07    2084     13:27:12     19         2572        13  \n",
       "631411 17    2016-01-07    2076     19:20:54      6         2290        19  \n",
       "631412 17    2016-01-07    3013     22:11:00    -60         2538        22  \n",
       "631413  6    2016-01-05    3022     22:16:48     -1         2799        22  \n",
       "631414 17    2016-01-05    2085     10:45:42    -23         2289        10  \n",
       "631415 17    2016-01-05    2085     12:43:24     55         1542        12  \n",
       "631416 17    2016-01-05    2083     20:01:48     -8         2538        20  \n",
       "631417 17    2016-01-05    2085     06:23:42    -24         2705         6  \n",
       "631418 17    2016-01-05    2071     19:10:06     69         2750        19  \n",
       "631419 17    2016-01-05    2083     18:56:42    -38         2572        18  \n",
       "631420 17    2016-01-05    2073     11:55:48     -8         1895        11  \n",
       "631421  4    2016-01-07    2081     15:43:00    393         1938        15  \n",
       "631422  4    2016-01-04    3087     22:18:12    -11         2740        22  \n",
       "631423 13    2016-01-04    3011     18:44:24    100         2550        18  \n",
       "631424  6    2016-01-07    2119     22:52:42     50         2791        22  \n",
       "631425 17    2016-01-07    2084     11:13:24     -6         1542        11  \n",
       "631426 17    2016-01-07    3002     21:28:00     11         1816        21  \n",
       "631427 17    2016-01-07    2076     14:54:00    -25         2705        14  \n",
       "631428 17    2016-01-07    2071     09:23:00      8         1816         9  \n",
       "       tramtyp_id\n",
       "1      3         \n",
       "2      2         \n",
       "3      2         \n",
       "4      3         \n",
       "5      3         \n",
       "6      3         \n",
       "7      3         \n",
       "8      3         \n",
       "9      2         \n",
       "10     3         \n",
       "11     3         \n",
       "12     3         \n",
       "13     2         \n",
       "14     3         \n",
       "15     3         \n",
       "16     2         \n",
       "17     3         \n",
       "18     2         \n",
       "19     3         \n",
       "20     2         \n",
       "21     3         \n",
       "22     3         \n",
       "23     2         \n",
       "24     3         \n",
       "25     3         \n",
       "26     2         \n",
       "27     2         \n",
       "28     2         \n",
       "29     3         \n",
       "30     2         \n",
       "⋮      ⋮         \n",
       "631399 3         \n",
       "631400 3         \n",
       "631401 3         \n",
       "631402 3         \n",
       "631403 3         \n",
       "631404 3         \n",
       "631405 3         \n",
       "631406 2         \n",
       "631407 2         \n",
       "631408 2         \n",
       "631409 2         \n",
       "631410 2         \n",
       "631411 2         \n",
       "631412 3         \n",
       "631413 3         \n",
       "631414 2         \n",
       "631415 2         \n",
       "631416 2         \n",
       "631417 2         \n",
       "631418 2         \n",
       "631419 2         \n",
       "631420 2         \n",
       "631421 2         \n",
       "631422 3         \n",
       "631423 3         \n",
       "631424 2         \n",
       "631425 2         \n",
       "631426 3         \n",
       "631427 2         \n",
       "631428 2         "
      ]
     },
     "metadata": {},
     "output_type": "display_data"
    }
   ],
   "source": [
    "read_and_reshape_data <- function(path){\n",
    "    # daten einlesen\n",
    "    data = read_csv(path)\n",
    "    \n",
    "    # Daten formatieren: betriebsdatum in Date umwandeln, soll_an_von in hms umwandeln\n",
    "    data_ready <- \n",
    "    data %>%\n",
    "        mutate(\n",
    "            # change to date format\n",
    "            betriebsdatum = dmy(betriebsdatum),\n",
    "            # change to hms format\n",
    "            soll_an_von = case_when(\n",
    "                soll_an_von < 86400 ~ hms::as_hms(soll_an_von),\n",
    "                soll_an_von >= 86400 ~ hms::as_hms(soll_an_von - 86400)\n",
    "            ),\n",
    "            # stunde extrahieren\n",
    "            hour = hour(soll_an_von),\n",
    "            # tramtyp_id erstellen\n",
    "            tramtyp_id = case_when(\n",
    "                (fahrzeug >= 1601) & (fahrzeug <= 1690) ~ 1,\n",
    "                (fahrzeug >= 2001) & (fahrzeug <= 2435) ~ 2,\n",
    "                (fahrzeug >= 3001) & (fahrzeug <= 3088) ~ 3,\n",
    "                (fahrzeug >= 4001) & (fahrzeug <= 4070) ~ 4,\n",
    "            ),\n",
    "            # tramtyp_id in factor umwandeln\n",
    "            tramtyp_id = as.factor(tramtyp_id)\n",
    "        )\n",
    "    # drop na values in tramtyp_id\n",
    "    data_ready <- data_ready %>% drop_na(tramtyp_id)\n",
    "    return(data_ready)\n",
    "}\n",
    "\n",
    "read_and_reshape_data(\"/Users/JonasIseli/Library/CloudStorage/OneDrive-ZHAW/02_ZHAW/05_HS24/03.1_Datenanalyse/03_Projekt/03_Arbeit/DaAn_Projektarbeit/testdata.csv\")"
   ]
  },
  {
   "cell_type": "code",
   "execution_count": 61,
   "metadata": {
    "vscode": {
     "languageId": "r"
    }
   },
   "outputs": [
    {
     "name": "stdout",
     "output_type": "stream",
     "text": [
      "[1] \"For the following tramtyp_id, n values were excluded because the delay was greater than 900 seconds:\"\n",
      "\u001b[90m# A tibble: 2 × 2\u001b[39m\n",
      "  tramtyp_id     n\n",
      "  \u001b[3m\u001b[90m<fct>\u001b[39m\u001b[23m      \u001b[3m\u001b[90m<int>\u001b[39m\u001b[23m\n",
      "\u001b[90m1\u001b[39m 2             43\n",
      "\u001b[90m2\u001b[39m 3             65\n",
      "[1] \"For the following tramtyp_id, n values were excluded because the delay was smaller than -900 seconds:\"\n",
      "\u001b[90m# A tibble: 2 × 2\u001b[39m\n",
      "  tramtyp_id     n\n",
      "  \u001b[3m\u001b[90m<fct>\u001b[39m\u001b[23m      \u001b[3m\u001b[90m<int>\u001b[39m\u001b[23m\n",
      "\u001b[90m1\u001b[39m 2              5\n",
      "\u001b[90m2\u001b[39m 3              2\n",
      "[1] \"For the following tramtyp_id, the number of data points is:\"\n",
      "\u001b[90m# A tibble: 2 × 2\u001b[39m\n",
      "  tramtyp_id      n\n",
      "  \u001b[3m\u001b[90m<fct>\u001b[39m\u001b[23m       \u001b[3m\u001b[90m<int>\u001b[39m\u001b[23m\n",
      "\u001b[90m1\u001b[39m 2          \u001b[4m3\u001b[24m\u001b[4m1\u001b[24m\u001b[4m7\u001b[24m164\n",
      "\u001b[90m2\u001b[39m 3          \u001b[4m3\u001b[24m\u001b[4m1\u001b[24m\u001b[4m4\u001b[24m149\n"
     ]
    }
   ],
   "source": [
    "# exclude extreme delay values\n",
    "exclude_extreme_delay_values <- function(delay_threshold,data){\n",
    "    data_greater_positive_threshold <- \n",
    "        data %>%\n",
    "        filter(verspaetung > delay_threshold) %>%\n",
    "        count(tramtyp_id)\n",
    "\n",
    "    print(paste0(\"For the following tramtyp_id, n values were excluded because the delay was greater than \",delay_threshold,\" seconds:\"))\n",
    "    print(data_greater_positive_threshold)\n",
    "\n",
    "    data_smaller_negative_threshold <- \n",
    "        data %>%\n",
    "        filter(verspaetung < -delay_threshold) %>%\n",
    "        count(tramtyp_id)\n",
    "    \n",
    "    print(paste0(\"For the following tramtyp_id, n values were excluded because the delay was smaller than -\",delay_threshold,\" seconds:\"))\n",
    "    print(data_smaller_negative_threshold)\n",
    "\n",
    "    data_filtered <- \n",
    "        data %>%\n",
    "        filter(verspaetung < delay_threshold, verspaetung > -delay_threshold)\n",
    "\n",
    "    return(data_filtered)\n",
    "}\n",
    "\n",
    "\n",
    "delay_threshold_seconds <- 900\n",
    "\n",
    "# count data where verspaetung > 1800\n",
    "data_summary_greater_1800 <- \n",
    "    data_ready %>%\n",
    "    filter(verspaetung > delay_threshold_seconds) %>%\n",
    "    count(tramtyp_id)\n",
    "\n",
    "print(paste0(\"For the following tramtyp_id, n values were excluded because the delay was greater than \",delay_threshold_seconds,\" seconds:\"))\n",
    "print(data_summary_greater_1800)\n",
    "\n",
    "# count data where verspaetung < -1800\n",
    "data_summary_smaller_minus_1800 <- \n",
    "    data_ready %>%\n",
    "    filter(verspaetung < -delay_threshold_seconds) %>%\n",
    "    count(tramtyp_id)\n",
    "\n",
    "print(paste0(\"For the following tramtyp_id, n values were excluded because the delay was smaller than -\",delay_threshold_seconds,\" seconds:\"))\n",
    "print(data_summary_smaller_minus_1800)\n",
    "\n",
    "# filter data where verspaetung > 1800 or verspaetung < -1800\n",
    "\n",
    "data_ready_filtered <- \n",
    "    data_ready %>%\n",
    "    filter(verspaetung < delay_threshold_seconds, verspaetung > -delay_threshold_seconds)\n",
    "\n",
    "# count data for each tramtyp_id\n",
    "data_summary_tramtyp <- \n",
    "data_ready_filtered %>%\n",
    "    count(tramtyp_id)\n",
    "\n",
    "print(\"For the following tramtyp_id, the number of data points is:\")\n",
    "print(data_summary_tramtyp)\n",
    "\n"
   ]
  },
  {
   "cell_type": "code",
   "execution_count": 33,
   "metadata": {
    "vscode": {
     "languageId": "r"
    }
   },
   "outputs": [
    {
     "data": {
      "text/html": [
       "-14110"
      ],
      "text/latex": [
       "-14110"
      ],
      "text/markdown": [
       "-14110"
      ],
      "text/plain": [
       "[1] -14110"
      ]
     },
     "metadata": {},
     "output_type": "display_data"
    },
    {
     "data": {
      "text/html": [
       "6553"
      ],
      "text/latex": [
       "6553"
      ],
      "text/markdown": [
       "6553"
      ],
      "text/plain": [
       "[1] 6553"
      ]
     },
     "metadata": {},
     "output_type": "display_data"
    }
   ],
   "source": [
    "min(data_final$verspaetung)\n",
    "max(data_final$verspaetung)\n"
   ]
  },
  {
   "cell_type": "code",
   "execution_count": 71,
   "metadata": {
    "vscode": {
     "languageId": "r"
    }
   },
   "outputs": [
    {
     "data": {
      "image/png": "[encoded data removed]",
      "text/plain": [
       "plot without title"
      ]
     },
     "metadata": {
      "image/png": {
       "height": 420,
       "width": 420
      }
     },
     "output_type": "display_data"
    }
   ],
   "source": [
    "## Auswertung für Tramtyp\n",
    "\n",
    "data_2016_filtered %>%\n",
    "    ggplot(\n",
    "        aes(\n",
    "            x = tramtyp_id,\n",
    "            y = verspaetung\n",
    "        )\n",
    "\n",
    "    )+\n",
    "\n",
    "    geom_violin()+\n",
    "\n",
    "    theme_bw()+\n",
    "\n",
    "    theme(\n",
    "        aspect.ratio = 0.5\n",
    "    )"
   ]
  },
  {
   "cell_type": "code",
   "execution_count": null,
   "metadata": {
    "vscode": {
     "languageId": "r"
    }
   },
   "outputs": [
    {
     "data": {
      "text/html": [
       "1.4748522557232e-08"
      ],
      "text/latex": [
       "1.4748522557232e-08"
      ],
      "text/markdown": [
       "1.4748522557232e-08"
      ],
      "text/plain": [
       "[1] 1.474852e-08"
      ]
     },
     "metadata": {},
     "output_type": "display_data"
    }
   ],
   "source": [
    "## check variance homogeneity with bartlett test\n",
    "alpha = 0.05\n",
    "bartlett_test <- bartlett.test(verspaetung ~ tramtyp_id, data = data_ready_filtered)\n",
    "bartlett.test(verspaetung ~ tramtyp_id, data = data_ready_filtered)$p.value\n"
   ]
  },
  {
   "cell_type": "code",
   "execution_count": 54,
   "metadata": {
    "vscode": {
     "languageId": "r"
    }
   },
   "outputs": [
    {
     "data": {
      "text/plain": [
       "\n",
       "\tOne-way analysis of means (not assuming equal variances)\n",
       "\n",
       "data:  verspaetung and tramtyp_id\n",
       "F = 315.66, num df = 1, denom df = 631311, p-value < 2.2e-16\n"
      ]
     },
     "metadata": {},
     "output_type": "display_data"
    },
    {
     "data": {
      "text/html": [
       "<table class=\"dataframe\">\n",
       "<caption>A tibble: 2 × 4</caption>\n",
       "<thead>\n",
       "\t<tr><th scope=col>tramtyp_id</th><th scope=col>mean</th><th scope=col>sd</th><th scope=col>n</th></tr>\n",
       "\t<tr><th scope=col>&lt;fct&gt;</th><th scope=col>&lt;dbl&gt;</th><th scope=col>&lt;dbl&gt;</th><th scope=col>&lt;int&gt;</th></tr>\n",
       "</thead>\n",
       "<tbody>\n",
       "\t<tr><td>2</td><td>25.11529</td><td>62.92542</td><td>317164</td></tr>\n",
       "\t<tr><td>3</td><td>22.31526</td><td>62.29417</td><td>314149</td></tr>\n",
       "</tbody>\n",
       "</table>\n"
      ],
      "text/latex": [
       "A tibble: 2 × 4\n",
       "\\begin{tabular}{llll}\n",
       " tramtyp\\_id & mean & sd & n\\\\\n",
       " <fct> & <dbl> & <dbl> & <int>\\\\\n",
       "\\hline\n",
       "\t 2 & 25.11529 & 62.92542 & 317164\\\\\n",
       "\t 3 & 22.31526 & 62.29417 & 314149\\\\\n",
       "\\end{tabular}\n"
      ],
      "text/markdown": [
       "\n",
       "A tibble: 2 × 4\n",
       "\n",
       "| tramtyp_id &lt;fct&gt; | mean &lt;dbl&gt; | sd &lt;dbl&gt; | n &lt;int&gt; |\n",
       "|---|---|---|---|\n",
       "| 2 | 25.11529 | 62.92542 | 317164 |\n",
       "| 3 | 22.31526 | 62.29417 | 314149 |\n",
       "\n"
      ],
      "text/plain": [
       "  tramtyp_id mean     sd       n     \n",
       "1 2          25.11529 62.92542 317164\n",
       "2 3          22.31526 62.29417 314149"
      ]
     },
     "metadata": {},
     "output_type": "display_data"
    }
   ],
   "source": [
    "oneway.test(verspaetung ~ tramtyp_id, data = data_ready_filtered)\n",
    "data_ready_filtered %>%\n",
    "    group_by(tramtyp_id) %>%\n",
    "    summarise(\n",
    "        mean = mean(verspaetung),\n",
    "        sd = sd(verspaetung),\n",
    "        n = n()\n",
    "    )"
   ]
  },
  {
   "cell_type": "code",
   "execution_count": 67,
   "metadata": {
    "vscode": {
     "languageId": "r"
    }
   },
   "outputs": [
    {
     "name": "stderr",
     "output_type": "stream",
     "text": [
      "\u001b[1mRows: \u001b[22m\u001b[34m32330887\u001b[39m \u001b[1mColumns: \u001b[22m\u001b[34m6\u001b[39m\n",
      "\u001b[36m──\u001b[39m \u001b[1mColumn specification\u001b[22m \u001b[36m────────────────────────────────────────────────────────\u001b[39m\n",
      "\u001b[1mDelimiter:\u001b[22m \",\"\n",
      "\u001b[31mchr\u001b[39m (1): betriebsdatum\n",
      "\u001b[32mdbl\u001b[39m (5): linie, fahrzeug, soll_an_von, verspaetung, halt_id_von\n",
      "\n",
      "\u001b[36mℹ\u001b[39m Use `spec()` to retrieve the full column specification for this data.\n",
      "\u001b[36mℹ\u001b[39m Specify the column types or set `show_col_types = FALSE` to quiet this message.\n"
     ]
    }
   ],
   "source": [
    "# path to desktop\n",
    "path = \"/Users/JonasIseli/Desktop/2016_aggregated.csv\"\n",
    "data_2016_agg <- read_and_reshape_data(path = path)"
   ]
  },
  {
   "cell_type": "code",
   "execution_count": 68,
   "metadata": {
    "vscode": {
     "languageId": "r"
    }
   },
   "outputs": [
    {
     "name": "stdout",
     "output_type": "stream",
     "text": [
      "[1] \"For the following tramtyp_id, n values were excluded because the delay was greater than 900 seconds:\"\n",
      "\u001b[90m# A tibble: 2 × 2\u001b[39m\n",
      "  tramtyp_id     n\n",
      "  \u001b[3m\u001b[90m<fct>\u001b[39m\u001b[23m      \u001b[3m\u001b[90m<int>\u001b[39m\u001b[23m\n",
      "\u001b[90m1\u001b[39m 2           \u001b[4m2\u001b[24m898\n",
      "\u001b[90m2\u001b[39m 3           \u001b[4m2\u001b[24m788\n",
      "[1] \"For the following tramtyp_id, n values were excluded because the delay was smaller than -900 seconds:\"\n",
      "\u001b[90m# A tibble: 2 × 2\u001b[39m\n",
      "  tramtyp_id     n\n",
      "  \u001b[3m\u001b[90m<fct>\u001b[39m\u001b[23m      \u001b[3m\u001b[90m<int>\u001b[39m\u001b[23m\n",
      "\u001b[90m1\u001b[39m 2            511\n",
      "\u001b[90m2\u001b[39m 3            448\n"
     ]
    }
   ],
   "source": [
    "data_2016_filtered <- exclude_extreme_delay_values(delay_threshold = 900, data = data_2016_agg)"
   ]
  },
  {
   "cell_type": "code",
   "execution_count": 70,
   "metadata": {
    "vscode": {
     "languageId": "r"
    }
   },
   "outputs": [
    {
     "data": {
      "text/html": [
       "<table class=\"dataframe\">\n",
       "<caption>A tibble: 32115017 × 8</caption>\n",
       "<thead>\n",
       "\t<tr><th scope=col>linie</th><th scope=col>betriebsdatum</th><th scope=col>fahrzeug</th><th scope=col>soll_an_von</th><th scope=col>verspaetung</th><th scope=col>halt_id_von</th><th scope=col>hour</th><th scope=col>tramtyp_id</th></tr>\n",
       "\t<tr><th scope=col>&lt;dbl&gt;</th><th scope=col>&lt;date&gt;</th><th scope=col>&lt;dbl&gt;</th><th scope=col>&lt;time&gt;</th><th scope=col>&lt;dbl&gt;</th><th scope=col>&lt;dbl&gt;</th><th scope=col>&lt;int&gt;</th><th scope=col>&lt;fct&gt;</th></tr>\n",
       "</thead>\n",
       "<tbody>\n",
       "\t<tr><td>2</td><td>2016-05-15</td><td>3007</td><td>04:56:30</td><td> 45</td><td>1306</td><td>4</td><td>3</td></tr>\n",
       "\t<tr><td>2</td><td>2016-05-15</td><td>3007</td><td>05:03:00</td><td>  0</td><td>2228</td><td>5</td><td>3</td></tr>\n",
       "\t<tr><td>2</td><td>2016-05-15</td><td>3007</td><td>05:02:00</td><td>  4</td><td>1528</td><td>5</td><td>3</td></tr>\n",
       "\t<tr><td>2</td><td>2016-05-15</td><td>3007</td><td>05:00:36</td><td>-22</td><td>2657</td><td>5</td><td>3</td></tr>\n",
       "\t<tr><td>2</td><td>2016-05-15</td><td>3007</td><td>04:57:48</td><td> 40</td><td>1502</td><td>4</td><td>3</td></tr>\n",
       "\t<tr><td>2</td><td>2016-05-15</td><td>2076</td><td>05:07:12</td><td>  8</td><td>2818</td><td>5</td><td>2</td></tr>\n",
       "\t<tr><td>2</td><td>2016-05-15</td><td>2076</td><td>05:06:30</td><td> -3</td><td>1310</td><td>5</td><td>2</td></tr>\n",
       "\t<tr><td>2</td><td>2016-05-15</td><td>3007</td><td>05:07:48</td><td>-40</td><td>2104</td><td>5</td><td>3</td></tr>\n",
       "\t<tr><td>2</td><td>2016-05-15</td><td>3007</td><td>05:06:06</td><td>-27</td><td>1565</td><td>5</td><td>3</td></tr>\n",
       "\t<tr><td>2</td><td>2016-05-15</td><td>3007</td><td>05:04:30</td><td>-14</td><td>2590</td><td>5</td><td>3</td></tr>\n",
       "\t<tr><td>2</td><td>2016-05-15</td><td>3082</td><td>05:07:54</td><td>-25</td><td>1502</td><td>5</td><td>3</td></tr>\n",
       "\t<tr><td>2</td><td>2016-05-15</td><td>3082</td><td>05:06:36</td><td>-13</td><td>1306</td><td>5</td><td>3</td></tr>\n",
       "\t<tr><td>2</td><td>2016-05-15</td><td>2076</td><td>05:15:36</td><td>-28</td><td>2250</td><td>5</td><td>2</td></tr>\n",
       "\t<tr><td>2</td><td>2016-05-15</td><td>2076</td><td>05:14:18</td><td>-24</td><td>1535</td><td>5</td><td>2</td></tr>\n",
       "\t<tr><td>2</td><td>2016-05-15</td><td>2076</td><td>05:12:54</td><td>-26</td><td>2245</td><td>5</td><td>2</td></tr>\n",
       "\t<tr><td>2</td><td>2016-05-15</td><td>2076</td><td>05:11:48</td><td>-24</td><td>2253</td><td>5</td><td>2</td></tr>\n",
       "\t<tr><td>2</td><td>2016-05-15</td><td>2076</td><td>05:10:36</td><td>  0</td><td>2244</td><td>5</td><td>2</td></tr>\n",
       "\t<tr><td>2</td><td>2016-05-15</td><td>2076</td><td>05:09:12</td><td> -7</td><td>2770</td><td>5</td><td>2</td></tr>\n",
       "\t<tr><td>2</td><td>2016-05-15</td><td>2076</td><td>05:08:06</td><td>  1</td><td>2535</td><td>5</td><td>2</td></tr>\n",
       "\t<tr><td>2</td><td>2016-05-15</td><td>3007</td><td>05:13:06</td><td>-18</td><td>2651</td><td>5</td><td>3</td></tr>\n",
       "\t<tr><td>2</td><td>2016-05-15</td><td>3007</td><td>05:12:12</td><td>-16</td><td>2680</td><td>5</td><td>3</td></tr>\n",
       "\t<tr><td>2</td><td>2016-05-15</td><td>3007</td><td>05:11:06</td><td>-24</td><td>2615</td><td>5</td><td>3</td></tr>\n",
       "\t<tr><td>2</td><td>2016-05-15</td><td>3007</td><td>05:10:06</td><td>-29</td><td>2689</td><td>5</td><td>3</td></tr>\n",
       "\t<tr><td>2</td><td>2016-05-15</td><td>3007</td><td>05:08:54</td><td>-38</td><td>2612</td><td>5</td><td>3</td></tr>\n",
       "\t<tr><td>2</td><td>2016-05-15</td><td>3082</td><td>05:14:36</td><td> -9</td><td>2590</td><td>5</td><td>3</td></tr>\n",
       "\t<tr><td>2</td><td>2016-05-15</td><td>3082</td><td>05:13:06</td><td> -5</td><td>2228</td><td>5</td><td>3</td></tr>\n",
       "\t<tr><td>2</td><td>2016-05-15</td><td>3082</td><td>05:12:06</td><td> -2</td><td>1528</td><td>5</td><td>3</td></tr>\n",
       "\t<tr><td>2</td><td>2016-05-15</td><td>3082</td><td>05:10:42</td><td>-38</td><td>2657</td><td>5</td><td>3</td></tr>\n",
       "\t<tr><td>2</td><td>2016-05-15</td><td>2076</td><td>05:34:06</td><td>-63</td><td>2615</td><td>5</td><td>2</td></tr>\n",
       "\t<tr><td>2</td><td>2016-05-15</td><td>2076</td><td>05:33:06</td><td>-55</td><td>2689</td><td>5</td><td>2</td></tr>\n",
       "\t<tr><td>⋮</td><td>⋮</td><td>⋮</td><td>⋮</td><td>⋮</td><td>⋮</td><td>⋮</td><td>⋮</td></tr>\n",
       "\t<tr><td>17</td><td>2016-04-02</td><td>2072</td><td>11:20:24</td><td>-36</td><td>2290</td><td>11</td><td>2</td></tr>\n",
       "\t<tr><td>17</td><td>2016-04-02</td><td>2072</td><td>11:19:30</td><td>-41</td><td>2298</td><td>11</td><td>2</td></tr>\n",
       "\t<tr><td>17</td><td>2016-04-02</td><td>2072</td><td>11:18:18</td><td>-43</td><td>2287</td><td>11</td><td>2</td></tr>\n",
       "\t<tr><td>17</td><td>2016-04-02</td><td>2072</td><td>11:17:12</td><td>-43</td><td>2294</td><td>11</td><td>2</td></tr>\n",
       "\t<tr><td>17</td><td>2016-04-02</td><td>2072</td><td>11:15:42</td><td>-41</td><td>2289</td><td>11</td><td>2</td></tr>\n",
       "\t<tr><td>17</td><td>2016-04-02</td><td>2072</td><td>11:13:24</td><td>-15</td><td>1542</td><td>11</td><td>2</td></tr>\n",
       "\t<tr><td>17</td><td>2016-04-02</td><td>2072</td><td>11:10:48</td><td>  7</td><td>1895</td><td>11</td><td>2</td></tr>\n",
       "\t<tr><td>17</td><td>2016-04-02</td><td>2072</td><td>11:08:00</td><td> -7</td><td>1816</td><td>11</td><td>2</td></tr>\n",
       "\t<tr><td>17</td><td>2016-04-02</td><td>2072</td><td>14:31:18</td><td> 84</td><td>2538</td><td>14</td><td>2</td></tr>\n",
       "\t<tr><td>17</td><td>2016-04-02</td><td>2072</td><td>14:30:24</td><td> 68</td><td>2544</td><td>14</td><td>2</td></tr>\n",
       "\t<tr><td>17</td><td>2016-04-02</td><td>2072</td><td>14:28:54</td><td> 56</td><td>2580</td><td>14</td><td>2</td></tr>\n",
       "\t<tr><td>17</td><td>2016-04-02</td><td>2072</td><td>14:28:00</td><td> 55</td><td>2792</td><td>14</td><td>2</td></tr>\n",
       "\t<tr><td>17</td><td>2016-04-02</td><td>2072</td><td>14:26:42</td><td> 47</td><td>2572</td><td>14</td><td>2</td></tr>\n",
       "\t<tr><td>17</td><td>2016-04-02</td><td>2072</td><td>14:25:30</td><td> 48</td><td>2645</td><td>14</td><td>2</td></tr>\n",
       "\t<tr><td>17</td><td>2016-04-02</td><td>2072</td><td>14:24:36</td><td> 46</td><td>2750</td><td>14</td><td>2</td></tr>\n",
       "\t<tr><td>17</td><td>2016-04-02</td><td>2072</td><td>14:23:30</td><td> 44</td><td>2705</td><td>14</td><td>2</td></tr>\n",
       "\t<tr><td>17</td><td>2016-04-02</td><td>2072</td><td>14:21:24</td><td> 27</td><td>1574</td><td>14</td><td>2</td></tr>\n",
       "\t<tr><td>17</td><td>2016-04-02</td><td>2072</td><td>14:20:24</td><td> 22</td><td>2290</td><td>14</td><td>2</td></tr>\n",
       "\t<tr><td>17</td><td>2016-04-02</td><td>2072</td><td>14:19:30</td><td> 14</td><td>2298</td><td>14</td><td>2</td></tr>\n",
       "\t<tr><td>17</td><td>2016-04-02</td><td>2072</td><td>14:18:18</td><td>  3</td><td>2287</td><td>14</td><td>2</td></tr>\n",
       "\t<tr><td>17</td><td>2016-04-02</td><td>2072</td><td>14:17:12</td><td> -7</td><td>2294</td><td>14</td><td>2</td></tr>\n",
       "\t<tr><td>17</td><td>2016-04-02</td><td>2072</td><td>14:15:42</td><td>  4</td><td>2289</td><td>14</td><td>2</td></tr>\n",
       "\t<tr><td>17</td><td>2016-04-02</td><td>2072</td><td>14:13:24</td><td>  4</td><td>1542</td><td>14</td><td>2</td></tr>\n",
       "\t<tr><td>17</td><td>2016-04-02</td><td>2072</td><td>14:10:48</td><td> 30</td><td>1895</td><td>14</td><td>2</td></tr>\n",
       "\t<tr><td>17</td><td>2016-04-02</td><td>2072</td><td>14:08:00</td><td> 11</td><td>1816</td><td>14</td><td>2</td></tr>\n",
       "\t<tr><td>17</td><td>2016-04-02</td><td>2072</td><td>16:00:06</td><td> 51</td><td>1541</td><td>16</td><td>2</td></tr>\n",
       "\t<tr><td>17</td><td>2016-04-02</td><td>3032</td><td>18:22:18</td><td> 78</td><td>2289</td><td>18</td><td>3</td></tr>\n",
       "\t<tr><td>17</td><td>2016-04-02</td><td>3032</td><td>18:20:00</td><td> 70</td><td>1542</td><td>18</td><td>3</td></tr>\n",
       "\t<tr><td>17</td><td>2016-04-02</td><td>3032</td><td>18:17:36</td><td> 44</td><td>1895</td><td>18</td><td>3</td></tr>\n",
       "\t<tr><td>17</td><td>2016-04-02</td><td>3032</td><td>18:15:00</td><td> 76</td><td>1816</td><td>18</td><td>3</td></tr>\n",
       "</tbody>\n",
       "</table>\n"
      ],
      "text/latex": [
       "A tibble: 32115017 × 8\n",
       "\\begin{tabular}{llllllll}\n",
       " linie & betriebsdatum & fahrzeug & soll\\_an\\_von & verspaetung & halt\\_id\\_von & hour & tramtyp\\_id\\\\\n",
       " <dbl> & <date> & <dbl> & <time> & <dbl> & <dbl> & <int> & <fct>\\\\\n",
       "\\hline\n",
       "\t 2 & 2016-05-15 & 3007 & 04:56:30 &  45 & 1306 & 4 & 3\\\\\n",
       "\t 2 & 2016-05-15 & 3007 & 05:03:00 &   0 & 2228 & 5 & 3\\\\\n",
       "\t 2 & 2016-05-15 & 3007 & 05:02:00 &   4 & 1528 & 5 & 3\\\\\n",
       "\t 2 & 2016-05-15 & 3007 & 05:00:36 & -22 & 2657 & 5 & 3\\\\\n",
       "\t 2 & 2016-05-15 & 3007 & 04:57:48 &  40 & 1502 & 4 & 3\\\\\n",
       "\t 2 & 2016-05-15 & 2076 & 05:07:12 &   8 & 2818 & 5 & 2\\\\\n",
       "\t 2 & 2016-05-15 & 2076 & 05:06:30 &  -3 & 1310 & 5 & 2\\\\\n",
       "\t 2 & 2016-05-15 & 3007 & 05:07:48 & -40 & 2104 & 5 & 3\\\\\n",
       "\t 2 & 2016-05-15 & 3007 & 05:06:06 & -27 & 1565 & 5 & 3\\\\\n",
       "\t 2 & 2016-05-15 & 3007 & 05:04:30 & -14 & 2590 & 5 & 3\\\\\n",
       "\t 2 & 2016-05-15 & 3082 & 05:07:54 & -25 & 1502 & 5 & 3\\\\\n",
       "\t 2 & 2016-05-15 & 3082 & 05:06:36 & -13 & 1306 & 5 & 3\\\\\n",
       "\t 2 & 2016-05-15 & 2076 & 05:15:36 & -28 & 2250 & 5 & 2\\\\\n",
       "\t 2 & 2016-05-15 & 2076 & 05:14:18 & -24 & 1535 & 5 & 2\\\\\n",
       "\t 2 & 2016-05-15 & 2076 & 05:12:54 & -26 & 2245 & 5 & 2\\\\\n",
       "\t 2 & 2016-05-15 & 2076 & 05:11:48 & -24 & 2253 & 5 & 2\\\\\n",
       "\t 2 & 2016-05-15 & 2076 & 05:10:36 &   0 & 2244 & 5 & 2\\\\\n",
       "\t 2 & 2016-05-15 & 2076 & 05:09:12 &  -7 & 2770 & 5 & 2\\\\\n",
       "\t 2 & 2016-05-15 & 2076 & 05:08:06 &   1 & 2535 & 5 & 2\\\\\n",
       "\t 2 & 2016-05-15 & 3007 & 05:13:06 & -18 & 2651 & 5 & 3\\\\\n",
       "\t 2 & 2016-05-15 & 3007 & 05:12:12 & -16 & 2680 & 5 & 3\\\\\n",
       "\t 2 & 2016-05-15 & 3007 & 05:11:06 & -24 & 2615 & 5 & 3\\\\\n",
       "\t 2 & 2016-05-15 & 3007 & 05:10:06 & -29 & 2689 & 5 & 3\\\\\n",
       "\t 2 & 2016-05-15 & 3007 & 05:08:54 & -38 & 2612 & 5 & 3\\\\\n",
       "\t 2 & 2016-05-15 & 3082 & 05:14:36 &  -9 & 2590 & 5 & 3\\\\\n",
       "\t 2 & 2016-05-15 & 3082 & 05:13:06 &  -5 & 2228 & 5 & 3\\\\\n",
       "\t 2 & 2016-05-15 & 3082 & 05:12:06 &  -2 & 1528 & 5 & 3\\\\\n",
       "\t 2 & 2016-05-15 & 3082 & 05:10:42 & -38 & 2657 & 5 & 3\\\\\n",
       "\t 2 & 2016-05-15 & 2076 & 05:34:06 & -63 & 2615 & 5 & 2\\\\\n",
       "\t 2 & 2016-05-15 & 2076 & 05:33:06 & -55 & 2689 & 5 & 2\\\\\n",
       "\t ⋮ & ⋮ & ⋮ & ⋮ & ⋮ & ⋮ & ⋮ & ⋮\\\\\n",
       "\t 17 & 2016-04-02 & 2072 & 11:20:24 & -36 & 2290 & 11 & 2\\\\\n",
       "\t 17 & 2016-04-02 & 2072 & 11:19:30 & -41 & 2298 & 11 & 2\\\\\n",
       "\t 17 & 2016-04-02 & 2072 & 11:18:18 & -43 & 2287 & 11 & 2\\\\\n",
       "\t 17 & 2016-04-02 & 2072 & 11:17:12 & -43 & 2294 & 11 & 2\\\\\n",
       "\t 17 & 2016-04-02 & 2072 & 11:15:42 & -41 & 2289 & 11 & 2\\\\\n",
       "\t 17 & 2016-04-02 & 2072 & 11:13:24 & -15 & 1542 & 11 & 2\\\\\n",
       "\t 17 & 2016-04-02 & 2072 & 11:10:48 &   7 & 1895 & 11 & 2\\\\\n",
       "\t 17 & 2016-04-02 & 2072 & 11:08:00 &  -7 & 1816 & 11 & 2\\\\\n",
       "\t 17 & 2016-04-02 & 2072 & 14:31:18 &  84 & 2538 & 14 & 2\\\\\n",
       "\t 17 & 2016-04-02 & 2072 & 14:30:24 &  68 & 2544 & 14 & 2\\\\\n",
       "\t 17 & 2016-04-02 & 2072 & 14:28:54 &  56 & 2580 & 14 & 2\\\\\n",
       "\t 17 & 2016-04-02 & 2072 & 14:28:00 &  55 & 2792 & 14 & 2\\\\\n",
       "\t 17 & 2016-04-02 & 2072 & 14:26:42 &  47 & 2572 & 14 & 2\\\\\n",
       "\t 17 & 2016-04-02 & 2072 & 14:25:30 &  48 & 2645 & 14 & 2\\\\\n",
       "\t 17 & 2016-04-02 & 2072 & 14:24:36 &  46 & 2750 & 14 & 2\\\\\n",
       "\t 17 & 2016-04-02 & 2072 & 14:23:30 &  44 & 2705 & 14 & 2\\\\\n",
       "\t 17 & 2016-04-02 & 2072 & 14:21:24 &  27 & 1574 & 14 & 2\\\\\n",
       "\t 17 & 2016-04-02 & 2072 & 14:20:24 &  22 & 2290 & 14 & 2\\\\\n",
       "\t 17 & 2016-04-02 & 2072 & 14:19:30 &  14 & 2298 & 14 & 2\\\\\n",
       "\t 17 & 2016-04-02 & 2072 & 14:18:18 &   3 & 2287 & 14 & 2\\\\\n",
       "\t 17 & 2016-04-02 & 2072 & 14:17:12 &  -7 & 2294 & 14 & 2\\\\\n",
       "\t 17 & 2016-04-02 & 2072 & 14:15:42 &   4 & 2289 & 14 & 2\\\\\n",
       "\t 17 & 2016-04-02 & 2072 & 14:13:24 &   4 & 1542 & 14 & 2\\\\\n",
       "\t 17 & 2016-04-02 & 2072 & 14:10:48 &  30 & 1895 & 14 & 2\\\\\n",
       "\t 17 & 2016-04-02 & 2072 & 14:08:00 &  11 & 1816 & 14 & 2\\\\\n",
       "\t 17 & 2016-04-02 & 2072 & 16:00:06 &  51 & 1541 & 16 & 2\\\\\n",
       "\t 17 & 2016-04-02 & 3032 & 18:22:18 &  78 & 2289 & 18 & 3\\\\\n",
       "\t 17 & 2016-04-02 & 3032 & 18:20:00 &  70 & 1542 & 18 & 3\\\\\n",
       "\t 17 & 2016-04-02 & 3032 & 18:17:36 &  44 & 1895 & 18 & 3\\\\\n",
       "\t 17 & 2016-04-02 & 3032 & 18:15:00 &  76 & 1816 & 18 & 3\\\\\n",
       "\\end{tabular}\n"
      ],
      "text/markdown": [
       "\n",
       "A tibble: 32115017 × 8\n",
       "\n",
       "| linie &lt;dbl&gt; | betriebsdatum &lt;date&gt; | fahrzeug &lt;dbl&gt; | soll_an_von &lt;time&gt; | verspaetung &lt;dbl&gt; | halt_id_von &lt;dbl&gt; | hour &lt;int&gt; | tramtyp_id &lt;fct&gt; |\n",
       "|---|---|---|---|---|---|---|---|\n",
       "| 2 | 2016-05-15 | 3007 | 04:56:30 |  45 | 1306 | 4 | 3 |\n",
       "| 2 | 2016-05-15 | 3007 | 05:03:00 |   0 | 2228 | 5 | 3 |\n",
       "| 2 | 2016-05-15 | 3007 | 05:02:00 |   4 | 1528 | 5 | 3 |\n",
       "| 2 | 2016-05-15 | 3007 | 05:00:36 | -22 | 2657 | 5 | 3 |\n",
       "| 2 | 2016-05-15 | 3007 | 04:57:48 |  40 | 1502 | 4 | 3 |\n",
       "| 2 | 2016-05-15 | 2076 | 05:07:12 |   8 | 2818 | 5 | 2 |\n",
       "| 2 | 2016-05-15 | 2076 | 05:06:30 |  -3 | 1310 | 5 | 2 |\n",
       "| 2 | 2016-05-15 | 3007 | 05:07:48 | -40 | 2104 | 5 | 3 |\n",
       "| 2 | 2016-05-15 | 3007 | 05:06:06 | -27 | 1565 | 5 | 3 |\n",
       "| 2 | 2016-05-15 | 3007 | 05:04:30 | -14 | 2590 | 5 | 3 |\n",
       "| 2 | 2016-05-15 | 3082 | 05:07:54 | -25 | 1502 | 5 | 3 |\n",
       "| 2 | 2016-05-15 | 3082 | 05:06:36 | -13 | 1306 | 5 | 3 |\n",
       "| 2 | 2016-05-15 | 2076 | 05:15:36 | -28 | 2250 | 5 | 2 |\n",
       "| 2 | 2016-05-15 | 2076 | 05:14:18 | -24 | 1535 | 5 | 2 |\n",
       "| 2 | 2016-05-15 | 2076 | 05:12:54 | -26 | 2245 | 5 | 2 |\n",
       "| 2 | 2016-05-15 | 2076 | 05:11:48 | -24 | 2253 | 5 | 2 |\n",
       "| 2 | 2016-05-15 | 2076 | 05:10:36 |   0 | 2244 | 5 | 2 |\n",
       "| 2 | 2016-05-15 | 2076 | 05:09:12 |  -7 | 2770 | 5 | 2 |\n",
       "| 2 | 2016-05-15 | 2076 | 05:08:06 |   1 | 2535 | 5 | 2 |\n",
       "| 2 | 2016-05-15 | 3007 | 05:13:06 | -18 | 2651 | 5 | 3 |\n",
       "| 2 | 2016-05-15 | 3007 | 05:12:12 | -16 | 2680 | 5 | 3 |\n",
       "| 2 | 2016-05-15 | 3007 | 05:11:06 | -24 | 2615 | 5 | 3 |\n",
       "| 2 | 2016-05-15 | 3007 | 05:10:06 | -29 | 2689 | 5 | 3 |\n",
       "| 2 | 2016-05-15 | 3007 | 05:08:54 | -38 | 2612 | 5 | 3 |\n",
       "| 2 | 2016-05-15 | 3082 | 05:14:36 |  -9 | 2590 | 5 | 3 |\n",
       "| 2 | 2016-05-15 | 3082 | 05:13:06 |  -5 | 2228 | 5 | 3 |\n",
       "| 2 | 2016-05-15 | 3082 | 05:12:06 |  -2 | 1528 | 5 | 3 |\n",
       "| 2 | 2016-05-15 | 3082 | 05:10:42 | -38 | 2657 | 5 | 3 |\n",
       "| 2 | 2016-05-15 | 2076 | 05:34:06 | -63 | 2615 | 5 | 2 |\n",
       "| 2 | 2016-05-15 | 2076 | 05:33:06 | -55 | 2689 | 5 | 2 |\n",
       "| ⋮ | ⋮ | ⋮ | ⋮ | ⋮ | ⋮ | ⋮ | ⋮ |\n",
       "| 17 | 2016-04-02 | 2072 | 11:20:24 | -36 | 2290 | 11 | 2 |\n",
       "| 17 | 2016-04-02 | 2072 | 11:19:30 | -41 | 2298 | 11 | 2 |\n",
       "| 17 | 2016-04-02 | 2072 | 11:18:18 | -43 | 2287 | 11 | 2 |\n",
       "| 17 | 2016-04-02 | 2072 | 11:17:12 | -43 | 2294 | 11 | 2 |\n",
       "| 17 | 2016-04-02 | 2072 | 11:15:42 | -41 | 2289 | 11 | 2 |\n",
       "| 17 | 2016-04-02 | 2072 | 11:13:24 | -15 | 1542 | 11 | 2 |\n",
       "| 17 | 2016-04-02 | 2072 | 11:10:48 |   7 | 1895 | 11 | 2 |\n",
       "| 17 | 2016-04-02 | 2072 | 11:08:00 |  -7 | 1816 | 11 | 2 |\n",
       "| 17 | 2016-04-02 | 2072 | 14:31:18 |  84 | 2538 | 14 | 2 |\n",
       "| 17 | 2016-04-02 | 2072 | 14:30:24 |  68 | 2544 | 14 | 2 |\n",
       "| 17 | 2016-04-02 | 2072 | 14:28:54 |  56 | 2580 | 14 | 2 |\n",
       "| 17 | 2016-04-02 | 2072 | 14:28:00 |  55 | 2792 | 14 | 2 |\n",
       "| 17 | 2016-04-02 | 2072 | 14:26:42 |  47 | 2572 | 14 | 2 |\n",
       "| 17 | 2016-04-02 | 2072 | 14:25:30 |  48 | 2645 | 14 | 2 |\n",
       "| 17 | 2016-04-02 | 2072 | 14:24:36 |  46 | 2750 | 14 | 2 |\n",
       "| 17 | 2016-04-02 | 2072 | 14:23:30 |  44 | 2705 | 14 | 2 |\n",
       "| 17 | 2016-04-02 | 2072 | 14:21:24 |  27 | 1574 | 14 | 2 |\n",
       "| 17 | 2016-04-02 | 2072 | 14:20:24 |  22 | 2290 | 14 | 2 |\n",
       "| 17 | 2016-04-02 | 2072 | 14:19:30 |  14 | 2298 | 14 | 2 |\n",
       "| 17 | 2016-04-02 | 2072 | 14:18:18 |   3 | 2287 | 14 | 2 |\n",
       "| 17 | 2016-04-02 | 2072 | 14:17:12 |  -7 | 2294 | 14 | 2 |\n",
       "| 17 | 2016-04-02 | 2072 | 14:15:42 |   4 | 2289 | 14 | 2 |\n",
       "| 17 | 2016-04-02 | 2072 | 14:13:24 |   4 | 1542 | 14 | 2 |\n",
       "| 17 | 2016-04-02 | 2072 | 14:10:48 |  30 | 1895 | 14 | 2 |\n",
       "| 17 | 2016-04-02 | 2072 | 14:08:00 |  11 | 1816 | 14 | 2 |\n",
       "| 17 | 2016-04-02 | 2072 | 16:00:06 |  51 | 1541 | 16 | 2 |\n",
       "| 17 | 2016-04-02 | 3032 | 18:22:18 |  78 | 2289 | 18 | 3 |\n",
       "| 17 | 2016-04-02 | 3032 | 18:20:00 |  70 | 1542 | 18 | 3 |\n",
       "| 17 | 2016-04-02 | 3032 | 18:17:36 |  44 | 1895 | 18 | 3 |\n",
       "| 17 | 2016-04-02 | 3032 | 18:15:00 |  76 | 1816 | 18 | 3 |\n",
       "\n"
      ],
      "text/plain": [
       "         linie betriebsdatum fahrzeug soll_an_von verspaetung halt_id_von hour\n",
       "1        2     2016-05-15    3007     04:56:30     45         1306        4   \n",
       "2        2     2016-05-15    3007     05:03:00      0         2228        5   \n",
       "3        2     2016-05-15    3007     05:02:00      4         1528        5   \n",
       "4        2     2016-05-15    3007     05:00:36    -22         2657        5   \n",
       "5        2     2016-05-15    3007     04:57:48     40         1502        4   \n",
       "6        2     2016-05-15    2076     05:07:12      8         2818        5   \n",
       "7        2     2016-05-15    2076     05:06:30     -3         1310        5   \n",
       "8        2     2016-05-15    3007     05:07:48    -40         2104        5   \n",
       "9        2     2016-05-15    3007     05:06:06    -27         1565        5   \n",
       "10       2     2016-05-15    3007     05:04:30    -14         2590        5   \n",
       "11       2     2016-05-15    3082     05:07:54    -25         1502        5   \n",
       "12       2     2016-05-15    3082     05:06:36    -13         1306        5   \n",
       "13       2     2016-05-15    2076     05:15:36    -28         2250        5   \n",
       "14       2     2016-05-15    2076     05:14:18    -24         1535        5   \n",
       "15       2     2016-05-15    2076     05:12:54    -26         2245        5   \n",
       "16       2     2016-05-15    2076     05:11:48    -24         2253        5   \n",
       "17       2     2016-05-15    2076     05:10:36      0         2244        5   \n",
       "18       2     2016-05-15    2076     05:09:12     -7         2770        5   \n",
       "19       2     2016-05-15    2076     05:08:06      1         2535        5   \n",
       "20       2     2016-05-15    3007     05:13:06    -18         2651        5   \n",
       "21       2     2016-05-15    3007     05:12:12    -16         2680        5   \n",
       "22       2     2016-05-15    3007     05:11:06    -24         2615        5   \n",
       "23       2     2016-05-15    3007     05:10:06    -29         2689        5   \n",
       "24       2     2016-05-15    3007     05:08:54    -38         2612        5   \n",
       "25       2     2016-05-15    3082     05:14:36     -9         2590        5   \n",
       "26       2     2016-05-15    3082     05:13:06     -5         2228        5   \n",
       "27       2     2016-05-15    3082     05:12:06     -2         1528        5   \n",
       "28       2     2016-05-15    3082     05:10:42    -38         2657        5   \n",
       "29       2     2016-05-15    2076     05:34:06    -63         2615        5   \n",
       "30       2     2016-05-15    2076     05:33:06    -55         2689        5   \n",
       "⋮        ⋮     ⋮             ⋮        ⋮           ⋮           ⋮           ⋮   \n",
       "32114988 17    2016-04-02    2072     11:20:24    -36         2290        11  \n",
       "32114989 17    2016-04-02    2072     11:19:30    -41         2298        11  \n",
       "32114990 17    2016-04-02    2072     11:18:18    -43         2287        11  \n",
       "32114991 17    2016-04-02    2072     11:17:12    -43         2294        11  \n",
       "32114992 17    2016-04-02    2072     11:15:42    -41         2289        11  \n",
       "32114993 17    2016-04-02    2072     11:13:24    -15         1542        11  \n",
       "32114994 17    2016-04-02    2072     11:10:48      7         1895        11  \n",
       "32114995 17    2016-04-02    2072     11:08:00     -7         1816        11  \n",
       "32114996 17    2016-04-02    2072     14:31:18     84         2538        14  \n",
       "32114997 17    2016-04-02    2072     14:30:24     68         2544        14  \n",
       "32114998 17    2016-04-02    2072     14:28:54     56         2580        14  \n",
       "32114999 17    2016-04-02    2072     14:28:00     55         2792        14  \n",
       "32115000 17    2016-04-02    2072     14:26:42     47         2572        14  \n",
       "32115001 17    2016-04-02    2072     14:25:30     48         2645        14  \n",
       "32115002 17    2016-04-02    2072     14:24:36     46         2750        14  \n",
       "32115003 17    2016-04-02    2072     14:23:30     44         2705        14  \n",
       "32115004 17    2016-04-02    2072     14:21:24     27         1574        14  \n",
       "32115005 17    2016-04-02    2072     14:20:24     22         2290        14  \n",
       "32115006 17    2016-04-02    2072     14:19:30     14         2298        14  \n",
       "32115007 17    2016-04-02    2072     14:18:18      3         2287        14  \n",
       "32115008 17    2016-04-02    2072     14:17:12     -7         2294        14  \n",
       "32115009 17    2016-04-02    2072     14:15:42      4         2289        14  \n",
       "32115010 17    2016-04-02    2072     14:13:24      4         1542        14  \n",
       "32115011 17    2016-04-02    2072     14:10:48     30         1895        14  \n",
       "32115012 17    2016-04-02    2072     14:08:00     11         1816        14  \n",
       "32115013 17    2016-04-02    2072     16:00:06     51         1541        16  \n",
       "32115014 17    2016-04-02    3032     18:22:18     78         2289        18  \n",
       "32115015 17    2016-04-02    3032     18:20:00     70         1542        18  \n",
       "32115016 17    2016-04-02    3032     18:17:36     44         1895        18  \n",
       "32115017 17    2016-04-02    3032     18:15:00     76         1816        18  \n",
       "         tramtyp_id\n",
       "1        3         \n",
       "2        3         \n",
       "3        3         \n",
       "4        3         \n",
       "5        3         \n",
       "6        2         \n",
       "7        2         \n",
       "8        3         \n",
       "9        3         \n",
       "10       3         \n",
       "11       3         \n",
       "12       3         \n",
       "13       2         \n",
       "14       2         \n",
       "15       2         \n",
       "16       2         \n",
       "17       2         \n",
       "18       2         \n",
       "19       2         \n",
       "20       3         \n",
       "21       3         \n",
       "22       3         \n",
       "23       3         \n",
       "24       3         \n",
       "25       3         \n",
       "26       3         \n",
       "27       3         \n",
       "28       3         \n",
       "29       2         \n",
       "30       2         \n",
       "⋮        ⋮         \n",
       "32114988 2         \n",
       "32114989 2         \n",
       "32114990 2         \n",
       "32114991 2         \n",
       "32114992 2         \n",
       "32114993 2         \n",
       "32114994 2         \n",
       "32114995 2         \n",
       "32114996 2         \n",
       "32114997 2         \n",
       "32114998 2         \n",
       "32114999 2         \n",
       "32115000 2         \n",
       "32115001 2         \n",
       "32115002 2         \n",
       "32115003 2         \n",
       "32115004 2         \n",
       "32115005 2         \n",
       "32115006 2         \n",
       "32115007 2         \n",
       "32115008 2         \n",
       "32115009 2         \n",
       "32115010 2         \n",
       "32115011 2         \n",
       "32115012 2         \n",
       "32115013 2         \n",
       "32115014 3         \n",
       "32115015 3         \n",
       "32115016 3         \n",
       "32115017 3         "
      ]
     },
     "metadata": {},
     "output_type": "display_data"
    }
   ],
   "source": [
    "data_2016_filtered"
   ]
  },
  {
   "cell_type": "code",
   "execution_count": null,
   "metadata": {
    "vscode": {
     "languageId": "r"
    }
   },
   "outputs": [],
   "source": []
  }
 ],
 "metadata": {
  "kernelspec": {
   "display_name": "R",
   "language": "R",
   "name": "ir"
  },
  "language_info": {
   "codemirror_mode": "r",
   "file_extension": ".r",
   "mimetype": "text/x-r-source",
   "name": "R",
   "pygments_lexer": "r",
   "version": "4.3.2"
  }
 },
 "nbformat": 4,
 "nbformat_minor": 2
}
