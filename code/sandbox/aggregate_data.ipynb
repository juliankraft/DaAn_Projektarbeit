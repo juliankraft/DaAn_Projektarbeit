{
 "cells": [
  {
   "cell_type": "code",
   "execution_count": 1,
   "metadata": {},
   "outputs": [],
   "source": [
    "import pandas as pd\n",
    "import os\n",
    "from pathlib import Path"
   ]
  },
  {
   "cell_type": "code",
   "execution_count": 2,
   "metadata": {},
   "outputs": [],
   "source": [
    "datapath = Path('/cfs/earth/scratch/kraftjul/DaAn_Projektarbeit/data/')"
   ]
  },
  {
   "cell_type": "code",
   "execution_count": 13,
   "metadata": {},
   "outputs": [],
   "source": [
    "def path_to_year(year):\n",
    "    path = datapath / year\n",
    "    return path\n",
    "\n",
    "def files_in_year(year, filter=None):\n",
    "    all_files = os.listdir(path_to_year(year))\n",
    "    if filter:\n",
    "        return [f for f in all_files if filter in f]\n",
    "    else:\n",
    "        return all_files"
   ]
  },
  {
   "cell_type": "code",
   "execution_count": 36,
   "metadata": {},
   "outputs": [],
   "source": [
    "def aggregate_data_per_file(file_path, save_file_path: Path):\n",
    "    data = pd.read_csv(file_path)\n",
    "\n",
    "    # filtering for line 1 - 20 (only tram) and fw_typ 1 (only regular service)\n",
    "    filtered_data = data.where((data['linie'] <= 20) & (data['fw_typ'] == 1)).dropna()\n",
    "\n",
    "    # calculate delay\n",
    "    filtered_data['verspaetung'] = filtered_data['ist_an_von'] - filtered_data['soll_an_von']\n",
    "\n",
    "    # select relevant columns\n",
    "    cols_to_select = ['linie', 'betriebsdatum', 'fahrzeug', 'soll_an_von', 'verspaetung', 'halt_id_von']\n",
    "    selected_data = filtered_data[cols_to_select]\n",
    "\n",
    "    # ensure the directory for save_file_path exists\n",
    "    if not save_file_path.parent.exists():\n",
    "        save_file_path.parent.mkdir(parents=True)\n",
    "\n",
    "    with save_file_path.open('a') as f:\n",
    "        selected_data.to_csv(f, index=False, header=f.tell()==0)\n"
   ]
  },
  {
   "cell_type": "code",
   "execution_count": 40,
   "metadata": {},
   "outputs": [
    {
     "data": {
      "text/plain": [
       "['2016', '2018', '2021', '2020', '2022', '2019', '2017']"
      ]
     },
     "execution_count": 40,
     "metadata": {},
     "output_type": "execute_result"
    }
   ],
   "source": [
    "os.listdir(datapath)"
   ]
  },
  {
   "cell_type": "code",
   "execution_count": 37,
   "metadata": {},
   "outputs": [],
   "source": [
    "test_file = Path('/cfs/earth/scratch/kraftjul/DaAn_Projektarbeit/data/2016/Fahrzeiten_SOLL_IST_20160103_20160109.csv')\n",
    "test_save_path = Path('/cfs/earth/scratch/kraftjul/DaAn_Projektarbeit/data/aggregated/2016_test.csv')"
   ]
  },
  {
   "cell_type": "code",
   "execution_count": 39,
   "metadata": {},
   "outputs": [],
   "source": [
    "aggregate_data_per_file(test_file, test_save_path)"
   ]
  }
 ],
 "metadata": {
  "kernelspec": {
   "display_name": "sa2",
   "language": "python",
   "name": "python3"
  },
  "language_info": {
   "codemirror_mode": {
    "name": "ipython",
    "version": 3
   },
   "file_extension": ".py",
   "mimetype": "text/x-python",
   "name": "python",
   "nbconvert_exporter": "python",
   "pygments_lexer": "ipython3",
   "version": "3.11.6"
  }
 },
 "nbformat": 4,
 "nbformat_minor": 2
}
