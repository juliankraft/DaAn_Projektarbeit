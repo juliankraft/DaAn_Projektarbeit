{
 "cells": [
  {
   "cell_type": "code",
   "execution_count": 1,
   "metadata": {},
   "outputs": [],
   "source": [
    "import pandas as pd\n",
    "import os\n",
    "from pathlib import Path"
   ]
  },
  {
   "cell_type": "code",
   "execution_count": 2,
   "metadata": {},
   "outputs": [],
   "source": [
    "datapath = Path('/cfs/earth/scratch/kraftjul/DaAn_Projektarbeit/data/')"
   ]
  },
  {
   "cell_type": "code",
   "execution_count": 13,
   "metadata": {},
   "outputs": [],
   "source": [
    "def path_to_year(year):\n",
    "    path = datapath / year\n",
    "    return path\n",
    "\n",
    "def files_in_year(year, filter=None):\n",
    "    all_files = os.listdir(path_to_year(year))\n",
    "    if filter:\n",
    "        return [f for f in all_files if filter in f]\n",
    "    else:\n",
    "        return all_files"
   ]
  },
  {
   "cell_type": "code",
   "execution_count": null,
   "metadata": {},
   "outputs": [],
   "source": [
    "def aggregate_data_per_file(file_path, save_path: Path):\n",
    "    data = pd.read_csv(file_path)\n",
    "\n",
    "    # filtering for line 1 - 20 (only tram) and fw_typ 1 (only regular service)\n",
    "    filtered_data = data.where((data['linie'] <= 20) & (data['fw_typ'] == 1)).dropna()\n",
    "\n",
    "    # calculate delay\n",
    "    filtered_data['verspaetung'] = filtered_data['ist_an_von'] - filtered_data['soll_an_von']\n",
    "\n",
    "    # select relevant columns\n",
    "    cols_to_select = ['linie', 'betriebsdatum', 'fahrzeug', 'soll_an_von', 'verspaetung', 'halt_id_von']\n",
    "    selected_data = filtered_data[cols_to_select]\n",
    "\n",
    "    # save data\n",
    "    i\n",
    "\n",
    "    \n"
   ]
  },
  {
   "cell_type": "code",
   "execution_count": 15,
   "metadata": {},
   "outputs": [],
   "source": [
    "test_file = Path('/cfs/earth/scratch/kraftjul/DaAn_Projektarbeit/data/2016/Fahrzeiten_SOLL_IST_20160103_20160109.csv')"
   ]
  },
  {
   "cell_type": "code",
   "execution_count": 24,
   "metadata": {},
   "outputs": [],
   "source": [
    "file_path = test_file\n",
    "\n",
    "data = pd.read_csv(file_path)\n",
    "\n",
    "\n",
    "# filtering for line 1 - 20 (only tram) and fw_typ 1 (only regular service)\n",
    "filtered_data = data.where((data['linie'] <= 20) & (data['fw_typ'] == 1)).dropna()\n",
    "\n",
    "# calculate delay\n",
    "filtered_data['verspaetung'] = filtered_data['ist_an_von'] - filtered_data['soll_an_von']\n",
    "\n",
    "# select relevant columns\n",
    "cols_to_select = ['linie', 'betriebsdatum', 'fahrzeug', 'soll_an_von', 'verspaetung', 'halt_id_von']\n",
    "selected_data = filtered_data[cols_to_select]\n"
   ]
  },
  {
   "cell_type": "code",
   "execution_count": 26,
   "metadata": {},
   "outputs": [],
   "source": [
    "selected_data.to_csv('/cfs/earth/scratch/kraftjul/DaAn_Projektarbeit/data/testdata.csv', index=False)"
   ]
  },
  {
   "cell_type": "code",
   "execution_count": 23,
   "metadata": {},
   "outputs": [
    {
     "data": {
      "text/plain": [
       "Index(['linie', 'richtung', 'betriebsdatum', 'fahrzeug', 'kurs', 'seq_von',\n",
       "       'halt_diva_von', 'halt_punkt_diva_von', 'halt_kurz_von1', 'datum_von',\n",
       "       'soll_an_von', 'ist_an_von', 'soll_ab_von', 'ist_ab_von', 'seq_nach',\n",
       "       'halt_diva_nach', 'halt_punkt_diva_nach', 'halt_kurz_nach1',\n",
       "       'datum_nach', 'soll_an_nach', 'ist_an_nach1', 'soll_ab_nach',\n",
       "       'ist_ab_nach', 'fahrt_id', 'fahrweg_id', 'fw_no', 'fw_typ', 'fw_kurz',\n",
       "       'fw_lang', 'umlauf_von', 'halt_id_von', 'halt_id_nach',\n",
       "       'halt_punkt_id_von', 'halt_punkt_id_nach'],\n",
       "      dtype='object')"
      ]
     },
     "execution_count": 23,
     "metadata": {},
     "output_type": "execute_result"
    }
   ],
   "source": [
    "filtered_data.keys()"
   ]
  },
  {
   "cell_type": "code",
   "execution_count": 12,
   "metadata": {},
   "outputs": [
    {
     "data": {
      "text/plain": [
       "['Fahrzeiten_SOLL_IST_20190421_20190427.csv',\n",
       " 'Fahrzeiten_SOLL_IST_20191201_20191207.csv',\n",
       " 'Fahrzeiten_SOLL_IST_20190707_20190713.csv',\n",
       " 'Fahrzeiten_SOLL_IST_20190609_20190615.csv',\n",
       " 'Fahrzeiten_SOLL_IST_20190908_20190914.csv',\n",
       " 'Fahrzeiten_SOLL_IST_20190414_20190420.csv',\n",
       " 'Fahrzeiten_SOLL_IST_20191215_20191221.csv',\n",
       " 'Fahrzeiten_SOLL_IST_20190310_20190316.csv',\n",
       " 'Fahrzeiten_SOLL_IST_20190630_20190706.csv',\n",
       " 'Fahrzeiten_SOLL_IST_20190203_20190209.csv',\n",
       " 'Fahrzeiten_SOLL_IST_20190428_20190504.csv',\n",
       " 'Fahrzeiten_SOLL_IST_20190721_20190727.csv',\n",
       " 'Fahrzeiten_SOLL_IST_20191027_20191102.csv',\n",
       " 'Fahrzeiten_SOLL_IST_20190818_20190824.csv',\n",
       " 'Fahrzeiten_SOLL_IST_20190901_20190907.csv',\n",
       " 'Fahrzeiten_SOLL_IST_20191006_20191012.csv',\n",
       " 'Fahrzeiten_SOLL_IST_20191117_20191123.csv',\n",
       " 'Fahrzeiten_SOLL_IST_20190714_20190720.csv',\n",
       " 'Fahrzeiten_SOLL_IST_20190519_20190525.csv',\n",
       " 'Fahrzeiten_SOLL_IST_20190512_20190518.csv',\n",
       " 'Fahrzeiten_SOLL_IST_20190127_20190202.csv',\n",
       " 'Fahrzeiten_SOLL_IST_20190915_20190921.csv',\n",
       " 'Fahrzeiten_SOLL_IST_20190331_20190406.csv',\n",
       " 'Fahrzeiten_SOLL_IST_20190113_20190119.csv',\n",
       " 'Fahrzeiten_SOLL_IST_20190929_20191005.csv',\n",
       " 'Fahrzeiten_SOLL_IST_20190120_20190126.csv',\n",
       " 'Fahrzeiten_SOLL_IST_20190210_20190216.csv',\n",
       " 'Fahrzeiten_SOLL_IST_20190825_20190831.csv',\n",
       " 'Fahrzeiten_SOLL_IST_20190324_20190330.csv',\n",
       " 'Fahrzeiten_SOLL_IST_20190616_20190622.csv',\n",
       " 'Fahrzeiten_SOLL_IST_20190811_20190817.csv',\n",
       " 'Fahrzeiten_SOLL_IST_20190217_20190223.csv',\n",
       " 'Fahrzeiten_SOLL_IST_20190602_20190608.csv',\n",
       " 'Fahrzeiten_SOLL_IST_20191110_20191116.csv',\n",
       " 'Fahrzeiten_SOLL_IST_20191208_20191214.csv',\n",
       " 'Fahrzeiten_SOLL_IST_20190623_20190629.csv',\n",
       " 'Fahrzeiten_SOLL_IST_20191020_20191026.csv',\n",
       " 'Fahrzeiten_SOLL_IST_20191229_20200104.csv',\n",
       " 'Fahrzeiten_SOLL_IST_20190728_20190803.csv',\n",
       " 'Fahrzeiten_SOLL_IST_20190303_20190309.csv',\n",
       " 'Fahrzeiten_SOLL_IST_20190224_20190302.csv',\n",
       " 'Fahrzeiten_SOLL_IST_20190922_20190928.csv',\n",
       " 'Fahrzeiten_SOLL_IST_20190505_20190511.csv',\n",
       " 'Fahrzeiten_SOLL_IST_20191103_20191109.csv',\n",
       " 'Fahrzeiten_SOLL_IST_20190526_20190601.csv',\n",
       " 'Fahrzeiten_SOLL_IST_20191013_20191019.csv',\n",
       " 'Fahrzeiten_SOLL_IST_20191222_20191228.csv',\n",
       " 'Fahrzeiten_SOLL_IST_20190106_20190112.csv',\n",
       " 'Fahrzeiten_SOLL_IST_20190317_20190323.csv',\n",
       " 'Fahrzeiten_SOLL_IST_20190407_20190413.csv',\n",
       " 'Fahrzeiten_SOLL_IST_20191124_20191130.csv',\n",
       " 'Fahrzeiten_SOLL_IST_20190804_20190810.csv']"
      ]
     },
     "execution_count": 12,
     "metadata": {},
     "output_type": "execute_result"
    }
   ],
   "source": [
    "files_in_year(year='2019', filter='Fahrzeiten')"
   ]
  },
  {
   "cell_type": "code",
   "execution_count": 9,
   "metadata": {},
   "outputs": [
    {
     "data": {
      "text/plain": [
       "PosixPath('/cfs/earth/scratch/kraftjul/DaAn_Projektarbeit/data/2019')"
      ]
     },
     "execution_count": 9,
     "metadata": {},
     "output_type": "execute_result"
    }
   ],
   "source": [
    "path_to_year('2019')"
   ]
  }
 ],
 "metadata": {
  "kernelspec": {
   "display_name": "sa2",
   "language": "python",
   "name": "python3"
  },
  "language_info": {
   "codemirror_mode": {
    "name": "ipython",
    "version": 3
   },
   "file_extension": ".py",
   "mimetype": "text/x-python",
   "name": "python",
   "nbconvert_exporter": "python",
   "pygments_lexer": "ipython3",
   "version": "3.11.6"
  }
 },
 "nbformat": 4,
 "nbformat_minor": 2
}
