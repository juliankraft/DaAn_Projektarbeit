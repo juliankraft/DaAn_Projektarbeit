{
 "cells": [
  {
   "cell_type": "code",
   "execution_count": 1,
   "metadata": {
    "vscode": {
     "languageId": "r"
    }
   },
   "outputs": [
    {
     "name": "stderr",
     "output_type": "stream",
     "text": [
      "── \u001b[1mAttaching core tidyverse packages\u001b[22m ──────────────────────── tidyverse 2.0.0 ──\n",
      "\u001b[32m✔\u001b[39m \u001b[34mdplyr    \u001b[39m 1.1.4     \u001b[32m✔\u001b[39m \u001b[34mreadr    \u001b[39m 2.1.5\n",
      "\u001b[32m✔\u001b[39m \u001b[34mforcats  \u001b[39m 1.0.0     \u001b[32m✔\u001b[39m \u001b[34mstringr  \u001b[39m 1.5.1\n",
      "\u001b[32m✔\u001b[39m \u001b[34mggplot2  \u001b[39m 3.5.1     \u001b[32m✔\u001b[39m \u001b[34mtibble   \u001b[39m 3.2.1\n",
      "\u001b[32m✔\u001b[39m \u001b[34mlubridate\u001b[39m 1.9.4     \u001b[32m✔\u001b[39m \u001b[34mtidyr    \u001b[39m 1.3.1\n",
      "\u001b[32m✔\u001b[39m \u001b[34mpurrr    \u001b[39m 1.0.2     \n",
      "── \u001b[1mConflicts\u001b[22m ────────────────────────────────────────── tidyverse_conflicts() ──\n",
      "\u001b[31m✖\u001b[39m \u001b[34mdplyr\u001b[39m::\u001b[32mfilter()\u001b[39m masks \u001b[34mstats\u001b[39m::filter()\n",
      "\u001b[31m✖\u001b[39m \u001b[34mdplyr\u001b[39m::\u001b[32mlag()\u001b[39m    masks \u001b[34mstats\u001b[39m::lag()\n",
      "\u001b[36mℹ\u001b[39m Use the conflicted package (\u001b[3m\u001b[34m<http://conflicted.r-lib.org/>\u001b[39m\u001b[23m) to force all conflicts to become errors\n"
     ]
    }
   ],
   "source": [
    "library(tidyverse)"
   ]
  },
  {
   "cell_type": "code",
   "execution_count": 7,
   "metadata": {
    "vscode": {
     "languageId": "r"
    }
   },
   "outputs": [],
   "source": [
    "data_path <- '/cfs/earth/scratch/kraftjul/DaAn_Projektarbeit/data/aggregated_data'"
   ]
  },
  {
   "cell_type": "code",
   "execution_count": 8,
   "metadata": {
    "vscode": {
     "languageId": "r"
    }
   },
   "outputs": [],
   "source": [
    "files <- dir(data_path)"
   ]
  },
  {
   "cell_type": "code",
   "execution_count": 15,
   "metadata": {
    "vscode": {
     "languageId": "r"
    }
   },
   "outputs": [
    {
     "name": "stderr",
     "output_type": "stream",
     "text": [
      "\u001b[1mRows: \u001b[22m\u001b[34m32330887\u001b[39m \u001b[1mColumns: \u001b[22m\u001b[34m6\u001b[39m\n",
      "\u001b[36m──\u001b[39m \u001b[1mColumn specification\u001b[22m \u001b[36m────────────────────────────────────────────────────────\u001b[39m\n",
      "\u001b[1mDelimiter:\u001b[22m \",\"\n",
      "\u001b[31mchr\u001b[39m (1): betriebsdatum\n",
      "\u001b[32mdbl\u001b[39m (5): linie, fahrzeug, soll_an_von, verspaetung, halt_id_von\n",
      "\n",
      "\u001b[36mℹ\u001b[39m Use `spec()` to retrieve the full column specification for this data.\n",
      "\u001b[36mℹ\u001b[39m Specify the column types or set `show_col_types = FALSE` to quiet this message.\n",
      "\u001b[1mRows: \u001b[22m\u001b[34m32089723\u001b[39m \u001b[1mColumns: \u001b[22m\u001b[34m6\u001b[39m\n",
      "\u001b[36m──\u001b[39m \u001b[1mColumn specification\u001b[22m \u001b[36m────────────────────────────────────────────────────────\u001b[39m\n",
      "\u001b[1mDelimiter:\u001b[22m \",\"\n",
      "\u001b[31mchr\u001b[39m (1): betriebsdatum\n",
      "\u001b[32mdbl\u001b[39m (5): linie, fahrzeug, soll_an_von, verspaetung, halt_id_von\n",
      "\n",
      "\u001b[36mℹ\u001b[39m Use `spec()` to retrieve the full column specification for this data.\n",
      "\u001b[36mℹ\u001b[39m Specify the column types or set `show_col_types = FALSE` to quiet this message.\n",
      "\u001b[1mRows: \u001b[22m\u001b[34m33883700\u001b[39m \u001b[1mColumns: \u001b[22m\u001b[34m6\u001b[39m\n",
      "\u001b[36m──\u001b[39m \u001b[1mColumn specification\u001b[22m \u001b[36m────────────────────────────────────────────────────────\u001b[39m\n",
      "\u001b[1mDelimiter:\u001b[22m \",\"\n",
      "\u001b[31mchr\u001b[39m (1): betriebsdatum\n",
      "\u001b[32mdbl\u001b[39m (5): linie, fahrzeug, soll_an_von, verspaetung, halt_id_von\n",
      "\n",
      "\u001b[36mℹ\u001b[39m Use `spec()` to retrieve the full column specification for this data.\n",
      "\u001b[36mℹ\u001b[39m Specify the column types or set `show_col_types = FALSE` to quiet this message.\n",
      "\u001b[1mRows: \u001b[22m\u001b[34m33347325\u001b[39m \u001b[1mColumns: \u001b[22m\u001b[34m6\u001b[39m\n",
      "\u001b[36m──\u001b[39m \u001b[1mColumn specification\u001b[22m \u001b[36m────────────────────────────────────────────────────────\u001b[39m\n",
      "\u001b[1mDelimiter:\u001b[22m \",\"\n",
      "\u001b[31mchr\u001b[39m (1): betriebsdatum\n",
      "\u001b[32mdbl\u001b[39m (5): linie, fahrzeug, soll_an_von, verspaetung, halt_id_von\n",
      "\n",
      "\u001b[36mℹ\u001b[39m Use `spec()` to retrieve the full column specification for this data.\n",
      "\u001b[36mℹ\u001b[39m Specify the column types or set `show_col_types = FALSE` to quiet this message.\n",
      "\u001b[1mRows: \u001b[22m\u001b[34m32176749\u001b[39m \u001b[1mColumns: \u001b[22m\u001b[34m6\u001b[39m\n",
      "\u001b[36m──\u001b[39m \u001b[1mColumn specification\u001b[22m \u001b[36m────────────────────────────────────────────────────────\u001b[39m\n",
      "\u001b[1mDelimiter:\u001b[22m \",\"\n",
      "\u001b[31mchr\u001b[39m (1): betriebsdatum\n",
      "\u001b[32mdbl\u001b[39m (5): linie, fahrzeug, soll_an_von, verspaetung, halt_id_von\n",
      "\n",
      "\u001b[36mℹ\u001b[39m Use `spec()` to retrieve the full column specification for this data.\n",
      "\u001b[36mℹ\u001b[39m Specify the column types or set `show_col_types = FALSE` to quiet this message.\n",
      "\u001b[1mRows: \u001b[22m\u001b[34m32904013\u001b[39m \u001b[1mColumns: \u001b[22m\u001b[34m6\u001b[39m\n",
      "\u001b[36m──\u001b[39m \u001b[1mColumn specification\u001b[22m \u001b[36m────────────────────────────────────────────────────────\u001b[39m\n",
      "\u001b[1mDelimiter:\u001b[22m \",\"\n",
      "\u001b[31mchr\u001b[39m (1): betriebsdatum\n",
      "\u001b[32mdbl\u001b[39m (5): linie, fahrzeug, soll_an_von, verspaetung, halt_id_von\n",
      "\n",
      "\u001b[36mℹ\u001b[39m Use `spec()` to retrieve the full column specification for this data.\n",
      "\u001b[36mℹ\u001b[39m Specify the column types or set `show_col_types = FALSE` to quiet this message.\n",
      "\u001b[1mRows: \u001b[22m\u001b[34m31462264\u001b[39m \u001b[1mColumns: \u001b[22m\u001b[34m6\u001b[39m\n",
      "\u001b[36m──\u001b[39m \u001b[1mColumn specification\u001b[22m \u001b[36m────────────────────────────────────────────────────────\u001b[39m\n",
      "\u001b[1mDelimiter:\u001b[22m \",\"\n",
      "\u001b[31mchr\u001b[39m (1): betriebsdatum\n",
      "\u001b[32mdbl\u001b[39m (5): linie, fahrzeug, soll_an_von, verspaetung, halt_id_von\n",
      "\n",
      "\u001b[36mℹ\u001b[39m Use `spec()` to retrieve the full column specification for this data.\n",
      "\u001b[36mℹ\u001b[39m Specify the column types or set `show_col_types = FALSE` to quiet this message.\n"
     ]
    }
   ],
   "source": [
    "data_out <- tibble()\n",
    "\n",
    "for (file in files) {\n",
    "  # read csv and append data to list\n",
    "  data <- read_csv(file.path(data_path, file))\n",
    "  data_out <- rbind(data_out, data)\n",
    "}"
   ]
  },
  {
   "cell_type": "code",
   "execution_count": 17,
   "metadata": {
    "vscode": {
     "languageId": "r"
    }
   },
   "outputs": [
    {
     "data": {
      "text/html": [
       "<table class=\"dataframe\">\n",
       "<caption>A tibble: 6 × 6</caption>\n",
       "<thead>\n",
       "\t<tr><th scope=col>linie</th><th scope=col>betriebsdatum</th><th scope=col>fahrzeug</th><th scope=col>soll_an_von</th><th scope=col>verspaetung</th><th scope=col>halt_id_von</th></tr>\n",
       "\t<tr><th scope=col>&lt;dbl&gt;</th><th scope=col>&lt;chr&gt;</th><th scope=col>&lt;dbl&gt;</th><th scope=col>&lt;dbl&gt;</th><th scope=col>&lt;dbl&gt;</th><th scope=col>&lt;dbl&gt;</th></tr>\n",
       "</thead>\n",
       "<tbody>\n",
       "\t<tr><td>2</td><td>15.05.16</td><td>3007</td><td>17790</td><td> 45</td><td>1306</td></tr>\n",
       "\t<tr><td>2</td><td>15.05.16</td><td>3007</td><td>18180</td><td>  0</td><td>2228</td></tr>\n",
       "\t<tr><td>2</td><td>15.05.16</td><td>3007</td><td>18120</td><td>  4</td><td>1528</td></tr>\n",
       "\t<tr><td>2</td><td>15.05.16</td><td>3007</td><td>18036</td><td>-22</td><td>2657</td></tr>\n",
       "\t<tr><td>2</td><td>15.05.16</td><td>3007</td><td>17868</td><td> 40</td><td>1502</td></tr>\n",
       "\t<tr><td>2</td><td>15.05.16</td><td>2076</td><td>18432</td><td>  8</td><td>2818</td></tr>\n",
       "</tbody>\n",
       "</table>\n"
      ],
      "text/latex": [
       "A tibble: 6 × 6\n",
       "\\begin{tabular}{llllll}\n",
       " linie & betriebsdatum & fahrzeug & soll\\_an\\_von & verspaetung & halt\\_id\\_von\\\\\n",
       " <dbl> & <chr> & <dbl> & <dbl> & <dbl> & <dbl>\\\\\n",
       "\\hline\n",
       "\t 2 & 15.05.16 & 3007 & 17790 &  45 & 1306\\\\\n",
       "\t 2 & 15.05.16 & 3007 & 18180 &   0 & 2228\\\\\n",
       "\t 2 & 15.05.16 & 3007 & 18120 &   4 & 1528\\\\\n",
       "\t 2 & 15.05.16 & 3007 & 18036 & -22 & 2657\\\\\n",
       "\t 2 & 15.05.16 & 3007 & 17868 &  40 & 1502\\\\\n",
       "\t 2 & 15.05.16 & 2076 & 18432 &   8 & 2818\\\\\n",
       "\\end{tabular}\n"
      ],
      "text/markdown": [
       "\n",
       "A tibble: 6 × 6\n",
       "\n",
       "| linie &lt;dbl&gt; | betriebsdatum &lt;chr&gt; | fahrzeug &lt;dbl&gt; | soll_an_von &lt;dbl&gt; | verspaetung &lt;dbl&gt; | halt_id_von &lt;dbl&gt; |\n",
       "|---|---|---|---|---|---|\n",
       "| 2 | 15.05.16 | 3007 | 17790 |  45 | 1306 |\n",
       "| 2 | 15.05.16 | 3007 | 18180 |   0 | 2228 |\n",
       "| 2 | 15.05.16 | 3007 | 18120 |   4 | 1528 |\n",
       "| 2 | 15.05.16 | 3007 | 18036 | -22 | 2657 |\n",
       "| 2 | 15.05.16 | 3007 | 17868 |  40 | 1502 |\n",
       "| 2 | 15.05.16 | 2076 | 18432 |   8 | 2818 |\n",
       "\n"
      ],
      "text/plain": [
       "  linie betriebsdatum fahrzeug soll_an_von verspaetung halt_id_von\n",
       "1 2     15.05.16      3007     17790        45         1306       \n",
       "2 2     15.05.16      3007     18180         0         2228       \n",
       "3 2     15.05.16      3007     18120         4         1528       \n",
       "4 2     15.05.16      3007     18036       -22         2657       \n",
       "5 2     15.05.16      3007     17868        40         1502       \n",
       "6 2     15.05.16      2076     18432         8         2818       "
      ]
     },
     "metadata": {},
     "output_type": "display_data"
    }
   ],
   "source": [
    "data_out %>% head()"
   ]
  },
  {
   "cell_type": "code",
   "execution_count": null,
   "metadata": {
    "vscode": {
     "languageId": "r"
    }
   },
   "outputs": [],
   "source": []
  }
 ],
 "metadata": {
  "kernelspec": {
   "display_name": "R",
   "language": "R",
   "name": "ir"
  },
  "language_info": {
   "codemirror_mode": "r",
   "file_extension": ".r",
   "mimetype": "text/x-r-source",
   "name": "R",
   "pygments_lexer": "r",
   "version": "4.4.2"
  }
 },
 "nbformat": 4,
 "nbformat_minor": 2
}
