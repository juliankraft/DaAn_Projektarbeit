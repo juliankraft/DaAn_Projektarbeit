{
 "cells": [
  {
   "cell_type": "code",
   "execution_count": 18,
   "metadata": {
    "vscode": {
     "languageId": "r"
    }
   },
   "outputs": [],
   "source": [
    "library(tidyverse)\n",
    "library(scales)"
   ]
  },
  {
   "cell_type": "code",
   "execution_count": 19,
   "metadata": {
    "vscode": {
     "languageId": "r"
    }
   },
   "outputs": [],
   "source": [
    "data_path <- '/cfs/earth/scratch/kraftjul/DaAn_Projektarbeit/data/aggregated_data'"
   ]
  },
  {
   "cell_type": "code",
   "execution_count": 20,
   "metadata": {
    "vscode": {
     "languageId": "r"
    }
   },
   "outputs": [],
   "source": [
    "files <- dir(data_path)"
   ]
  },
  {
   "cell_type": "code",
   "execution_count": 22,
   "metadata": {
    "vscode": {
     "languageId": "r"
    }
   },
   "outputs": [
    {
     "name": "stdout",
     "output_type": "stream",
     "text": [
      "[1] \"2016_aggregated.csv\"\n",
      "[1] \"2017_aggregated.csv\"\n",
      "[1] \"2018_aggregated.csv\"\n",
      "[1] \"2019_aggregated.csv\"\n",
      "[1] \"2020_aggregated.csv\"\n",
      "[1] \"2021_aggregated.csv\"\n",
      "[1] \"2022_aggregated.csv\"\n"
     ]
    }
   ],
   "source": [
    "data_out <- tibble()\n",
    "\n",
    "for (file in files) {\n",
    "  # read csv and append data to list\n",
    "  print(file)\n",
    "  data <- read.csv(file.path(data_path, file), nrows = 100000) \n",
    "  data_out <- rbind(data_out, data)\n",
    "}"
   ]
  },
  {
   "cell_type": "code",
   "execution_count": 23,
   "metadata": {
    "vscode": {
     "languageId": "r"
    }
   },
   "outputs": [],
   "source": [
    "data_out %>% write.csv(\"/cfs/earth/scratch/kraftjul/DaAn_Projektarbeit/test_data.csv\")"
   ]
  },
  {
   "cell_type": "code",
   "execution_count": 9,
   "metadata": {
    "vscode": {
     "languageId": "r"
    }
   },
   "outputs": [],
   "source": [
    "data_analysis <- \n",
    "    data_out %>%\n",
    "        mutate(\n",
    "            betriebsdatum = dmy(betriebsdatum),\n",
    "            year = year(betriebsdatum),\n",
    "            year = as.factor(year),\n",
    "            verspaetung_cat = \n",
    "                case_when(\n",
    "                    verspaetung < -60 ~ -1,\n",
    "                    verspaetung < 120 ~ 0,\n",
    "                    verspaetung < 300 ~ 1,\n",
    "                    TRUE ~ 2\n",
    "\n",
    "                ),\n",
    "            verspaetung_cat = as.factor(verspaetung_cat) %>% fct_rev()        )\n"
   ]
  },
  {
   "cell_type": "code",
   "execution_count": 10,
   "metadata": {
    "vscode": {
     "languageId": "r"
    }
   },
   "outputs": [
    {
     "name": "stdout",
     "output_type": "stream",
     "text": [
      "[1] \"Reject H0: Variances are not equal\"\n",
      "[1] \"Performing Welch's ANOVA\"\n"
     ]
    },
    {
     "data": {
      "text/plain": [
       "\n",
       "\tOne-way analysis of means (not assuming equal variances)\n",
       "\n",
       "data:  verspaetung and year\n",
       "F = 185939, num df = 6, denom df = 101246173, p-value < 2.2e-16\n"
      ]
     },
     "metadata": {},
     "output_type": "display_data"
    },
    {
     "name": "stdout",
     "output_type": "stream",
     "text": [
      "[1] \"Reject H0: There is a significant difference between the groups\"\n",
      "[1] \"Post Hoc test\"\n"
     ]
    },
    {
     "data": {
      "text/plain": [
       "\n",
       "\tPairwise comparisons using t tests with pooled SD \n",
       "\n",
       "data:  verspaetung and year \n",
       "\n",
       "     2016    2017    2018    2019    2020    2021   \n",
       "2017 < 2e-16 -       -       -       -       -      \n",
       "2018 < 2e-16 < 2e-16 -       -       -       -      \n",
       "2019 < 2e-16 < 2e-16 4.3e-11 -       -       -      \n",
       "2020 < 2e-16 < 2e-16 < 2e-16 < 2e-16 -       -      \n",
       "2021 < 2e-16 < 2e-16 < 2e-16 < 2e-16 < 2e-16 -      \n",
       "2022 < 2e-16 < 2e-16 < 2e-16 < 2e-16 < 2e-16 < 2e-16\n",
       "\n",
       "P value adjustment method: holm "
      ]
     },
     "metadata": {},
     "output_type": "display_data"
    }
   ],
   "source": [
    "alpha <- 0.05\n",
    "result_bartlett <- bartlett.test(verspaetung ~ year, data = data_analysis)\n",
    "\n",
    "if(result_bartlett$p.value < alpha) {\n",
    "    print('Reject H0: Variances are not equal')\n",
    "    print(\"Performing Welch's ANOVA\")\n",
    "    model <- oneway.test(verspaetung ~ year, data = data_analysis)\n",
    "}else{\n",
    "    print('Accept H0: Variances are equal')\n",
    "    print(\"Performing ANOVA\")\n",
    "    model <- aov(verspaetung ~ year, data = data_analysis)\n",
    "}\n",
    "model\n",
    "\n",
    "if(model$p.value < alpha) {\n",
    "    print('Reject H0: There is a significant difference between the groups')\n",
    "    print(\"Post Hoc test\")\n",
    "\n",
    "    with(data_analysis,\n",
    "         pairwise.t.test(verspaetung, year))\n",
    "}else{\n",
    "    print('Accept H0: There is no significant difference between the groups')\n",
    "}\n"
   ]
  },
  {
   "cell_type": "code",
   "execution_count": 11,
   "metadata": {
    "vscode": {
     "languageId": "r"
    }
   },
   "outputs": [
    {
     "data": {
      "text/html": [
       "<table class=\"dataframe\">\n",
       "<caption>A tibble: 7 × 5</caption>\n",
       "<thead>\n",
       "\t<tr><th scope=col>year</th><th scope=col>mean</th><th scope=col>median</th><th scope=col>sd</th><th scope=col>n</th></tr>\n",
       "\t<tr><th scope=col>&lt;fct&gt;</th><th scope=col>&lt;dbl&gt;</th><th scope=col>&lt;dbl&gt;</th><th scope=col>&lt;dbl&gt;</th><th scope=col>&lt;int&gt;</th></tr>\n",
       "</thead>\n",
       "<tbody>\n",
       "\t<tr><td>2016</td><td>23.87193</td><td>12</td><td> 73.27740</td><td>32330887</td></tr>\n",
       "\t<tr><td>2017</td><td>25.29071</td><td>12</td><td> 83.61678</td><td>32164802</td></tr>\n",
       "\t<tr><td>2018</td><td>24.93918</td><td>10</td><td> 89.73184</td><td>33390389</td></tr>\n",
       "\t<tr><td>2019</td><td>24.79336</td><td> 9</td><td>100.56253</td><td>33441280</td></tr>\n",
       "\t<tr><td>2020</td><td>10.29503</td><td> 1</td><td> 77.41079</td><td>32366998</td></tr>\n",
       "\t<tr><td>2021</td><td>12.22689</td><td> 1</td><td>105.89882</td><td>32973049</td></tr>\n",
       "\t<tr><td>2022</td><td>16.86157</td><td> 4</td><td> 96.73881</td><td>31527256</td></tr>\n",
       "</tbody>\n",
       "</table>\n"
      ],
      "text/latex": [
       "A tibble: 7 × 5\n",
       "\\begin{tabular}{lllll}\n",
       " year & mean & median & sd & n\\\\\n",
       " <fct> & <dbl> & <dbl> & <dbl> & <int>\\\\\n",
       "\\hline\n",
       "\t 2016 & 23.87193 & 12 &  73.27740 & 32330887\\\\\n",
       "\t 2017 & 25.29071 & 12 &  83.61678 & 32164802\\\\\n",
       "\t 2018 & 24.93918 & 10 &  89.73184 & 33390389\\\\\n",
       "\t 2019 & 24.79336 &  9 & 100.56253 & 33441280\\\\\n",
       "\t 2020 & 10.29503 &  1 &  77.41079 & 32366998\\\\\n",
       "\t 2021 & 12.22689 &  1 & 105.89882 & 32973049\\\\\n",
       "\t 2022 & 16.86157 &  4 &  96.73881 & 31527256\\\\\n",
       "\\end{tabular}\n"
      ],
      "text/markdown": [
       "\n",
       "A tibble: 7 × 5\n",
       "\n",
       "| year &lt;fct&gt; | mean &lt;dbl&gt; | median &lt;dbl&gt; | sd &lt;dbl&gt; | n &lt;int&gt; |\n",
       "|---|---|---|---|---|\n",
       "| 2016 | 23.87193 | 12 |  73.27740 | 32330887 |\n",
       "| 2017 | 25.29071 | 12 |  83.61678 | 32164802 |\n",
       "| 2018 | 24.93918 | 10 |  89.73184 | 33390389 |\n",
       "| 2019 | 24.79336 |  9 | 100.56253 | 33441280 |\n",
       "| 2020 | 10.29503 |  1 |  77.41079 | 32366998 |\n",
       "| 2021 | 12.22689 |  1 | 105.89882 | 32973049 |\n",
       "| 2022 | 16.86157 |  4 |  96.73881 | 31527256 |\n",
       "\n"
      ],
      "text/plain": [
       "  year mean     median sd        n       \n",
       "1 2016 23.87193 12      73.27740 32330887\n",
       "2 2017 25.29071 12      83.61678 32164802\n",
       "3 2018 24.93918 10      89.73184 33390389\n",
       "4 2019 24.79336  9     100.56253 33441280\n",
       "5 2020 10.29503  1      77.41079 32366998\n",
       "6 2021 12.22689  1     105.89882 32973049\n",
       "7 2022 16.86157  4      96.73881 31527256"
      ]
     },
     "metadata": {},
     "output_type": "display_data"
    }
   ],
   "source": [
    "data_analysis %>%\n",
    "    group_by(year) %>%\n",
    "    summarise(\n",
    "        mean = mean(verspaetung),\n",
    "        median = median(verspaetung),\n",
    "        sd = sd(verspaetung),\n",
    "        n = n()\n",
    "    ) "
   ]
  },
  {
   "cell_type": "code",
   "execution_count": 17,
   "metadata": {
    "vscode": {
     "languageId": "r"
    }
   },
   "outputs": [
    {
     "data": {
      "text/html": [
       "<table class=\"dataframe\">\n",
       "<caption>A tibble: 4 × 8</caption>\n",
       "<thead>\n",
       "\t<tr><th scope=col>verspaetung_cat</th><th scope=col>2016</th><th scope=col>2017</th><th scope=col>2018</th><th scope=col>2019</th><th scope=col>2020</th><th scope=col>2021</th><th scope=col>2022</th></tr>\n",
       "\t<tr><th scope=col>&lt;fct&gt;</th><th scope=col>&lt;dbl&gt;</th><th scope=col>&lt;dbl&gt;</th><th scope=col>&lt;dbl&gt;</th><th scope=col>&lt;dbl&gt;</th><th scope=col>&lt;dbl&gt;</th><th scope=col>&lt;dbl&gt;</th><th scope=col>&lt;dbl&gt;</th></tr>\n",
       "</thead>\n",
       "<tbody>\n",
       "\t<tr><td>2 </td><td> 0.59</td><td> 0.74</td><td> 0.85</td><td> 1.00</td><td> 0.41</td><td> 0.68</td><td> 0.79</td></tr>\n",
       "\t<tr><td>1 </td><td> 5.73</td><td> 6.17</td><td> 6.62</td><td> 6.86</td><td> 3.86</td><td> 4.14</td><td> 5.15</td></tr>\n",
       "\t<tr><td>0 </td><td>91.66</td><td>91.02</td><td>90.22</td><td>89.76</td><td>92.17</td><td>91.53</td><td>90.74</td></tr>\n",
       "\t<tr><td>-1</td><td> 2.02</td><td> 2.08</td><td> 2.31</td><td> 2.38</td><td> 3.56</td><td> 3.66</td><td> 3.31</td></tr>\n",
       "</tbody>\n",
       "</table>\n"
      ],
      "text/latex": [
       "A tibble: 4 × 8\n",
       "\\begin{tabular}{llllllll}\n",
       " verspaetung\\_cat & 2016 & 2017 & 2018 & 2019 & 2020 & 2021 & 2022\\\\\n",
       " <fct> & <dbl> & <dbl> & <dbl> & <dbl> & <dbl> & <dbl> & <dbl>\\\\\n",
       "\\hline\n",
       "\t 2  &  0.59 &  0.74 &  0.85 &  1.00 &  0.41 &  0.68 &  0.79\\\\\n",
       "\t 1  &  5.73 &  6.17 &  6.62 &  6.86 &  3.86 &  4.14 &  5.15\\\\\n",
       "\t 0  & 91.66 & 91.02 & 90.22 & 89.76 & 92.17 & 91.53 & 90.74\\\\\n",
       "\t -1 &  2.02 &  2.08 &  2.31 &  2.38 &  3.56 &  3.66 &  3.31\\\\\n",
       "\\end{tabular}\n"
      ],
      "text/markdown": [
       "\n",
       "A tibble: 4 × 8\n",
       "\n",
       "| verspaetung_cat &lt;fct&gt; | 2016 &lt;dbl&gt; | 2017 &lt;dbl&gt; | 2018 &lt;dbl&gt; | 2019 &lt;dbl&gt; | 2020 &lt;dbl&gt; | 2021 &lt;dbl&gt; | 2022 &lt;dbl&gt; |\n",
       "|---|---|---|---|---|---|---|---|\n",
       "| 2  |  0.59 |  0.74 |  0.85 |  1.00 |  0.41 |  0.68 |  0.79 |\n",
       "| 1  |  5.73 |  6.17 |  6.62 |  6.86 |  3.86 |  4.14 |  5.15 |\n",
       "| 0  | 91.66 | 91.02 | 90.22 | 89.76 | 92.17 | 91.53 | 90.74 |\n",
       "| -1 |  2.02 |  2.08 |  2.31 |  2.38 |  3.56 |  3.66 |  3.31 |\n",
       "\n"
      ],
      "text/plain": [
       "  verspaetung_cat 2016  2017  2018  2019  2020  2021  2022 \n",
       "1 2                0.59  0.74  0.85  1.00  0.41  0.68  0.79\n",
       "2 1                5.73  6.17  6.62  6.86  3.86  4.14  5.15\n",
       "3 0               91.66 91.02 90.22 89.76 92.17 91.53 90.74\n",
       "4 -1               2.02  2.08  2.31  2.38  3.56  3.66  3.31"
      ]
     },
     "metadata": {},
     "output_type": "display_data"
    }
   ],
   "source": [
    "data_analysis %>%\n",
    "    count(year, verspaetung_cat) %>%\n",
    "    group_by(year) %>%\n",
    "    mutate(\n",
    "        perc = round(n / sum(n)*100,2)\n",
    "    ) %>%\n",
    "    select(-n) %>%\n",
    "    pivot_wider(names_from = year, values_from = perc)"
   ]
  },
  {
   "cell_type": "code",
   "execution_count": 12,
   "metadata": {
    "vscode": {
     "languageId": "r"
    }
   },
   "outputs": [
    {
     "data": {
      "image/png": "[encoded data removed]",
      "text/plain": [
       "plot without title"
      ]
     },
     "metadata": {
      "image/png": {
       "height": 420,
       "width": 420
      }
     },
     "output_type": "display_data"
    }
   ],
   "source": [
    "delay_colors <- c(\n",
    "  \"-1\" = \"#1f77b4\",  # Too Early\n",
    "  \"0\" = \"#2ca02c\",   # On Time\n",
    "  \"1\" = \"#ff7f0e\",   # Late\n",
    "  \"2\" = \"#d62728\"    # Very Late\n",
    ")\n",
    "\n",
    "data_analysis %>%\n",
    "    ggplot(\n",
    "        aes(\n",
    "            x = year,\n",
    "            fill = verspaetung_cat,\n",
    "        )\n",
    "    )+\n",
    "\n",
    "    geom_bar(\n",
    "        position = \"fill\"\n",
    "    )+\n",
    "\n",
    "    scale_y_continuous(\n",
    "        labels = scales::percent_format()\n",
    "    )+\n",
    "\n",
    "    scale_fill_manual(\n",
    "        name = \"\",\n",
    "        values = delay_colors,\n",
    "        labels = c(\"stark verspätet\", \"verspätet\", \"pünktlich\", \"zu früh\")\n",
    "    )+\n",
    "\n",
    "    labs(\n",
    "        title = \"Verspätung nach Kategorie pro Jahr\",\n",
    "        x = \"\",\n",
    "        y = \"Anteile\"\n",
    "    )+\n",
    "\n",
    "    theme_bw()+\n",
    "\n",
    "    theme(\n",
    "        aspect.ratio = 0.5\n",
    "    )"
   ]
  },
  {
   "cell_type": "code",
   "execution_count": null,
   "metadata": {
    "vscode": {
     "languageId": "r"
    }
   },
   "outputs": [],
   "source": []
  }
 ],
 "metadata": {
  "kernelspec": {
   "display_name": "R",
   "language": "R",
   "name": "ir"
  },
  "language_info": {
   "codemirror_mode": "r",
   "file_extension": ".r",
   "mimetype": "text/x-r-source",
   "name": "R",
   "pygments_lexer": "r",
   "version": "4.4.2"
  }
 },
 "nbformat": 4,
 "nbformat_minor": 2
}
