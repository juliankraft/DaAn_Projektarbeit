{
 "cells": [
  {
   "cell_type": "code",
   "execution_count": 1,
   "metadata": {
    "vscode": {
     "languageId": "r"
    }
   },
   "outputs": [
    {
     "name": "stderr",
     "output_type": "stream",
     "text": [
      "── \u001b[1mAttaching core tidyverse packages\u001b[22m ──────────────────────── tidyverse 2.0.0 ──\n",
      "\u001b[32m✔\u001b[39m \u001b[34mdplyr    \u001b[39m 1.1.4     \u001b[32m✔\u001b[39m \u001b[34mreadr    \u001b[39m 2.1.5\n",
      "\u001b[32m✔\u001b[39m \u001b[34mforcats  \u001b[39m 1.0.0     \u001b[32m✔\u001b[39m \u001b[34mstringr  \u001b[39m 1.5.1\n",
      "\u001b[32m✔\u001b[39m \u001b[34mggplot2  \u001b[39m 3.5.1     \u001b[32m✔\u001b[39m \u001b[34mtibble   \u001b[39m 3.2.1\n",
      "\u001b[32m✔\u001b[39m \u001b[34mlubridate\u001b[39m 1.9.3     \u001b[32m✔\u001b[39m \u001b[34mtidyr    \u001b[39m 1.3.1\n",
      "\u001b[32m✔\u001b[39m \u001b[34mpurrr    \u001b[39m 1.0.2     \n",
      "── \u001b[1mConflicts\u001b[22m ────────────────────────────────────────── tidyverse_conflicts() ──\n",
      "\u001b[31m✖\u001b[39m \u001b[34mdplyr\u001b[39m::\u001b[32mfilter()\u001b[39m masks \u001b[34mstats\u001b[39m::filter()\n",
      "\u001b[31m✖\u001b[39m \u001b[34mdplyr\u001b[39m::\u001b[32mlag()\u001b[39m    masks \u001b[34mstats\u001b[39m::lag()\n",
      "\u001b[36mℹ\u001b[39m Use the conflicted package (\u001b[3m\u001b[34m<http://conflicted.r-lib.org/>\u001b[39m\u001b[23m) to force all conflicts to become errors\n"
     ]
    }
   ],
   "source": [
    "library(tidyverse)"
   ]
  },
  {
   "cell_type": "code",
   "execution_count": 82,
   "metadata": {
    "vscode": {
     "languageId": "r"
    }
   },
   "outputs": [
    {
     "name": "stderr",
     "output_type": "stream",
     "text": [
      "\u001b[1m\u001b[22mNew names:\n",
      "\u001b[36m•\u001b[39m `` -> `...1`\n",
      "\u001b[1mRows: \u001b[22m\u001b[34m700000\u001b[39m \u001b[1mColumns: \u001b[22m\u001b[34m7\u001b[39m\n",
      "\u001b[36m──\u001b[39m \u001b[1mColumn specification\u001b[22m \u001b[36m────────────────────────────────────────────────────────\u001b[39m\n",
      "\u001b[1mDelimiter:\u001b[22m \",\"\n",
      "\u001b[31mchr\u001b[39m (1): betriebsdatum\n",
      "\u001b[32mdbl\u001b[39m (6): ...1, linie, fahrzeug, soll_an_von, verspaetung, halt_id_von\n",
      "\n",
      "\u001b[36mℹ\u001b[39m Use `spec()` to retrieve the full column specification for this data.\n",
      "\u001b[36mℹ\u001b[39m Specify the column types or set `show_col_types = FALSE` to quiet this message.\n"
     ]
    },
    {
     "data": {
      "text/html": [
       "<table class=\"dataframe\">\n",
       "<caption>A tibble: 6 × 6</caption>\n",
       "<thead>\n",
       "\t<tr><th scope=col>linie</th><th scope=col>betriebsdatum</th><th scope=col>fahrzeug</th><th scope=col>soll_an_von</th><th scope=col>verspaetung</th><th scope=col>halt_id_von</th></tr>\n",
       "\t<tr><th scope=col>&lt;dbl&gt;</th><th scope=col>&lt;chr&gt;</th><th scope=col>&lt;dbl&gt;</th><th scope=col>&lt;dbl&gt;</th><th scope=col>&lt;dbl&gt;</th><th scope=col>&lt;dbl&gt;</th></tr>\n",
       "</thead>\n",
       "<tbody>\n",
       "\t<tr><td>2</td><td>15.05.16</td><td>3007</td><td>17790</td><td> 45</td><td>1306</td></tr>\n",
       "\t<tr><td>2</td><td>15.05.16</td><td>3007</td><td>18180</td><td>  0</td><td>2228</td></tr>\n",
       "\t<tr><td>2</td><td>15.05.16</td><td>3007</td><td>18120</td><td>  4</td><td>1528</td></tr>\n",
       "\t<tr><td>2</td><td>15.05.16</td><td>3007</td><td>18036</td><td>-22</td><td>2657</td></tr>\n",
       "\t<tr><td>2</td><td>15.05.16</td><td>3007</td><td>17868</td><td> 40</td><td>1502</td></tr>\n",
       "\t<tr><td>2</td><td>15.05.16</td><td>2076</td><td>18432</td><td>  8</td><td>2818</td></tr>\n",
       "</tbody>\n",
       "</table>\n"
      ],
      "text/latex": [
       "A tibble: 6 × 6\n",
       "\\begin{tabular}{llllll}\n",
       " linie & betriebsdatum & fahrzeug & soll\\_an\\_von & verspaetung & halt\\_id\\_von\\\\\n",
       " <dbl> & <chr> & <dbl> & <dbl> & <dbl> & <dbl>\\\\\n",
       "\\hline\n",
       "\t 2 & 15.05.16 & 3007 & 17790 &  45 & 1306\\\\\n",
       "\t 2 & 15.05.16 & 3007 & 18180 &   0 & 2228\\\\\n",
       "\t 2 & 15.05.16 & 3007 & 18120 &   4 & 1528\\\\\n",
       "\t 2 & 15.05.16 & 3007 & 18036 & -22 & 2657\\\\\n",
       "\t 2 & 15.05.16 & 3007 & 17868 &  40 & 1502\\\\\n",
       "\t 2 & 15.05.16 & 2076 & 18432 &   8 & 2818\\\\\n",
       "\\end{tabular}\n"
      ],
      "text/markdown": [
       "\n",
       "A tibble: 6 × 6\n",
       "\n",
       "| linie &lt;dbl&gt; | betriebsdatum &lt;chr&gt; | fahrzeug &lt;dbl&gt; | soll_an_von &lt;dbl&gt; | verspaetung &lt;dbl&gt; | halt_id_von &lt;dbl&gt; |\n",
       "|---|---|---|---|---|---|\n",
       "| 2 | 15.05.16 | 3007 | 17790 |  45 | 1306 |\n",
       "| 2 | 15.05.16 | 3007 | 18180 |   0 | 2228 |\n",
       "| 2 | 15.05.16 | 3007 | 18120 |   4 | 1528 |\n",
       "| 2 | 15.05.16 | 3007 | 18036 | -22 | 2657 |\n",
       "| 2 | 15.05.16 | 3007 | 17868 |  40 | 1502 |\n",
       "| 2 | 15.05.16 | 2076 | 18432 |   8 | 2818 |\n",
       "\n"
      ],
      "text/plain": [
       "  linie betriebsdatum fahrzeug soll_an_von verspaetung halt_id_von\n",
       "1 2     15.05.16      3007     17790        45         1306       \n",
       "2 2     15.05.16      3007     18180         0         2228       \n",
       "3 2     15.05.16      3007     18120         4         1528       \n",
       "4 2     15.05.16      3007     18036       -22         2657       \n",
       "5 2     15.05.16      3007     17868        40         1502       \n",
       "6 2     15.05.16      2076     18432         8         2818       "
      ]
     },
     "metadata": {},
     "output_type": "display_data"
    }
   ],
   "source": [
    "# Daten einlesen\n",
    "data <- read_csv(\"/Users/JonasIseli/Desktop/test_data.csv\")\n",
    "data <- data[2:7]\n",
    "data %>% head()"
   ]
  },
  {
   "cell_type": "code",
   "execution_count": 95,
   "metadata": {
    "vscode": {
     "languageId": "r"
    }
   },
   "outputs": [
    {
     "data": {
      "text/html": [
       "<table class=\"dataframe\">\n",
       "<caption>A tibble: 6 × 9</caption>\n",
       "<thead>\n",
       "\t<tr><th scope=col>linie</th><th scope=col>betriebsdatum</th><th scope=col>fahrzeug</th><th scope=col>soll_an_von</th><th scope=col>verspaetung</th><th scope=col>halt_id_von</th><th scope=col>hour</th><th scope=col>tramtyp_id</th><th scope=col>verspaetung_cat</th></tr>\n",
       "\t<tr><th scope=col>&lt;dbl&gt;</th><th scope=col>&lt;date&gt;</th><th scope=col>&lt;dbl&gt;</th><th scope=col>&lt;time&gt;</th><th scope=col>&lt;dbl&gt;</th><th scope=col>&lt;dbl&gt;</th><th scope=col>&lt;fct&gt;</th><th scope=col>&lt;fct&gt;</th><th scope=col>&lt;fct&gt;</th></tr>\n",
       "</thead>\n",
       "<tbody>\n",
       "\t<tr><td>2</td><td>2016-05-15</td><td>3007</td><td>04:56:30</td><td> 45</td><td>1306</td><td>4</td><td>3</td><td>0</td></tr>\n",
       "\t<tr><td>2</td><td>2016-05-15</td><td>3007</td><td>05:03:00</td><td>  0</td><td>2228</td><td>5</td><td>3</td><td>0</td></tr>\n",
       "\t<tr><td>2</td><td>2016-05-15</td><td>3007</td><td>05:02:00</td><td>  4</td><td>1528</td><td>5</td><td>3</td><td>0</td></tr>\n",
       "\t<tr><td>2</td><td>2016-05-15</td><td>3007</td><td>05:00:36</td><td>-22</td><td>2657</td><td>5</td><td>3</td><td>0</td></tr>\n",
       "\t<tr><td>2</td><td>2016-05-15</td><td>3007</td><td>04:57:48</td><td> 40</td><td>1502</td><td>4</td><td>3</td><td>0</td></tr>\n",
       "\t<tr><td>2</td><td>2016-05-15</td><td>2076</td><td>05:07:12</td><td>  8</td><td>2818</td><td>5</td><td>2</td><td>0</td></tr>\n",
       "</tbody>\n",
       "</table>\n"
      ],
      "text/latex": [
       "A tibble: 6 × 9\n",
       "\\begin{tabular}{lllllllll}\n",
       " linie & betriebsdatum & fahrzeug & soll\\_an\\_von & verspaetung & halt\\_id\\_von & hour & tramtyp\\_id & verspaetung\\_cat\\\\\n",
       " <dbl> & <date> & <dbl> & <time> & <dbl> & <dbl> & <fct> & <fct> & <fct>\\\\\n",
       "\\hline\n",
       "\t 2 & 2016-05-15 & 3007 & 04:56:30 &  45 & 1306 & 4 & 3 & 0\\\\\n",
       "\t 2 & 2016-05-15 & 3007 & 05:03:00 &   0 & 2228 & 5 & 3 & 0\\\\\n",
       "\t 2 & 2016-05-15 & 3007 & 05:02:00 &   4 & 1528 & 5 & 3 & 0\\\\\n",
       "\t 2 & 2016-05-15 & 3007 & 05:00:36 & -22 & 2657 & 5 & 3 & 0\\\\\n",
       "\t 2 & 2016-05-15 & 3007 & 04:57:48 &  40 & 1502 & 4 & 3 & 0\\\\\n",
       "\t 2 & 2016-05-15 & 2076 & 05:07:12 &   8 & 2818 & 5 & 2 & 0\\\\\n",
       "\\end{tabular}\n"
      ],
      "text/markdown": [
       "\n",
       "A tibble: 6 × 9\n",
       "\n",
       "| linie &lt;dbl&gt; | betriebsdatum &lt;date&gt; | fahrzeug &lt;dbl&gt; | soll_an_von &lt;time&gt; | verspaetung &lt;dbl&gt; | halt_id_von &lt;dbl&gt; | hour &lt;fct&gt; | tramtyp_id &lt;fct&gt; | verspaetung_cat &lt;fct&gt; |\n",
       "|---|---|---|---|---|---|---|---|---|\n",
       "| 2 | 2016-05-15 | 3007 | 04:56:30 |  45 | 1306 | 4 | 3 | 0 |\n",
       "| 2 | 2016-05-15 | 3007 | 05:03:00 |   0 | 2228 | 5 | 3 | 0 |\n",
       "| 2 | 2016-05-15 | 3007 | 05:02:00 |   4 | 1528 | 5 | 3 | 0 |\n",
       "| 2 | 2016-05-15 | 3007 | 05:00:36 | -22 | 2657 | 5 | 3 | 0 |\n",
       "| 2 | 2016-05-15 | 3007 | 04:57:48 |  40 | 1502 | 4 | 3 | 0 |\n",
       "| 2 | 2016-05-15 | 2076 | 05:07:12 |   8 | 2818 | 5 | 2 | 0 |\n",
       "\n"
      ],
      "text/plain": [
       "  linie betriebsdatum fahrzeug soll_an_von verspaetung halt_id_von hour\n",
       "1 2     2016-05-15    3007     04:56:30     45         1306        4   \n",
       "2 2     2016-05-15    3007     05:03:00      0         2228        5   \n",
       "3 2     2016-05-15    3007     05:02:00      4         1528        5   \n",
       "4 2     2016-05-15    3007     05:00:36    -22         2657        5   \n",
       "5 2     2016-05-15    3007     04:57:48     40         1502        4   \n",
       "6 2     2016-05-15    2076     05:07:12      8         2818        5   \n",
       "  tramtyp_id verspaetung_cat\n",
       "1 3          0              \n",
       "2 3          0              \n",
       "3 3          0              \n",
       "4 3          0              \n",
       "5 3          0              \n",
       "6 2          0              "
      ]
     },
     "metadata": {},
     "output_type": "display_data"
    }
   ],
   "source": [
    "# Daten formatieren: betriebsdatum in Date umwandeln, soll_an_von in hms umwandeln\n",
    "data_classified <- \n",
    "    data %>%\n",
    "        mutate(\n",
    "            # change to date format\n",
    "            betriebsdatum = dmy(betriebsdatum),\n",
    "            # change to hms format\n",
    "            soll_an_von = case_when(\n",
    "                soll_an_von < 86400 ~ hms::as_hms(soll_an_von),\n",
    "                soll_an_von >= 86400 ~ hms::as_hms(soll_an_von - 86400)\n",
    "            ),\n",
    "            # stunde extrahieren\n",
    "            hour = hour(soll_an_von),\n",
    "            # tramtyp_id erstellen\n",
    "            tramtyp_id = case_when(\n",
    "                (fahrzeug >= 1601) & (fahrzeug <= 1690) ~ 1, # Mirage\n",
    "                (fahrzeug >= 2001) & (fahrzeug <= 2435) ~ 2, # Tram 2000\n",
    "                (fahrzeug >= 3001) & (fahrzeug <= 3088) ~ 3, # Cobra\n",
    "                (fahrzeug >= 4001) & (fahrzeug <= 4070) ~ 4, # Flexity\n",
    "            ),\n",
    "            verspaetung_cat = \n",
    "                case_when(\n",
    "                    verspaetung < -60 ~ -1, # zu früh\n",
    "                    verspaetung < 120 ~ 0,  # pünktlich\n",
    "                    verspaetung < 300 ~ 1,  # leicht verspätet\n",
    "                    TRUE ~ 2                # stark verspätet \n",
    "\n",
    "            ),\n",
    "            # Ausreisser begrenzen auf max 1h zu früh oder zu spät\n",
    "            verspaetung = case_when(\n",
    "                verspaetung > 3600 ~ 3600,\n",
    "                verspaetung < -3600 ~ -3600,\n",
    "                TRUE ~ verspaetung\n",
    "            ),\n",
    "            # tramtyp_id und hour in factor umwandeln\n",
    "            tramtyp_id = as.factor(tramtyp_id),\n",
    "            hour = as.factor(hour),\n",
    "            verspaetung_cat = as.factor(verspaetung_cat) %>% fct_rev()\n",
    "        )\n",
    "\n",
    "data_classified %>% head()"
   ]
  },
  {
   "cell_type": "markdown",
   "metadata": {},
   "source": [
    "### Einfluss der Tageszeit auf Verspätung\n"
   ]
  },
  {
   "cell_type": "code",
   "execution_count": 100,
   "metadata": {
    "vscode": {
     "languageId": "r"
    }
   },
   "outputs": [
    {
     "name": "stdout",
     "output_type": "stream",
     "text": [
      "[1] \"Reject H0: Variances are not equal\"\n",
      "[1] \"Performing Welch's ANOVA\"\n"
     ]
    },
    {
     "data": {
      "text/plain": [
       "\n",
       "\tOne-way analysis of means (not assuming equal variances)\n",
       "\n",
       "data:  verspaetung and hour\n",
       "F = 229.89, num df = 21, denom df = 47301, p-value < 2.2e-16\n"
      ]
     },
     "metadata": {},
     "output_type": "display_data"
    },
    {
     "name": "stdout",
     "output_type": "stream",
     "text": [
      "[1] \"Reject H0: There is a significant difference between the groups\"\n",
      "[1] \"Post Hoc test\"\n"
     ]
    },
    {
     "data": {
      "text/plain": [
       "\n",
       "\tPairwise comparisons using t tests with pooled SD \n",
       "\n",
       "data:  verspaetung and hour \n",
       "\n",
       "   0       1       4       5       6       7       8       9       10     \n",
       "1  0.28352 -       -       -       -       -       -       -       -      \n",
       "4  1.00000 0.20431 -       -       -       -       -       -       -      \n",
       "5  0.20634 0.06857 1.00000 -       -       -       -       -       -      \n",
       "6  < 2e-16 1.1e-08 0.00124 < 2e-16 -       -       -       -       -      \n",
       "7  5.3e-14 0.00151 1.00000 2.9e-06 < 2e-16 -       -       -       -      \n",
       "8  < 2e-16 7.9e-06 0.20634 < 2e-16 8.5e-09 2.4e-08 -       -       -      \n",
       "9  < 2e-16 1.0e-06 0.05154 < 2e-16 0.00065 2.1e-15 0.55694 -       -      \n",
       "10 < 2e-16 2.0e-05 0.30429 < 2e-16 7.3e-13 4.1e-06 1.00000 0.03201 -      \n",
       "11 9.7e-14 0.00177 1.00000 6.2e-06 < 2e-16 1.00000 5.8e-10 < 2e-16 1.6e-07\n",
       "12 < 2e-16 0.00022 1.00000 3.5e-13 < 2e-16 0.28352 0.00273 2.7e-08 0.08557\n",
       "13 < 2e-16 2.9e-07 0.02025 < 2e-16 0.04781 < 2e-16 0.02071 1.00000 0.00012\n",
       "14 < 2e-16 1.8e-08 0.00177 < 2e-16 1.00000 < 2e-16 3.8e-08 0.00230 3.4e-12\n",
       "15 < 2e-16 5.9e-13 7.4e-08 < 2e-16 4.9e-14 < 2e-16 < 2e-16 < 2e-16 < 2e-16\n",
       "16 < 2e-16 < 2e-16 1.2e-13 < 2e-16 < 2e-16 < 2e-16 < 2e-16 < 2e-16 < 2e-16\n",
       "17 < 2e-16 < 2e-16 < 2e-16 < 2e-16 < 2e-16 < 2e-16 < 2e-16 < 2e-16 < 2e-16\n",
       "18 < 2e-16 9.4e-14 1.1e-08 < 2e-16 < 2e-16 < 2e-16 < 2e-16 < 2e-16 < 2e-16\n",
       "19 < 2e-16 7.8e-06 0.20634 < 2e-16 2.0e-09 7.2e-09 1.00000 0.48040 1.00000\n",
       "20 < 2e-16 5.9e-13 7.4e-08 < 2e-16 1.2e-13 < 2e-16 < 2e-16 < 2e-16 < 2e-16\n",
       "21 < 2e-16 2.6e-16 1.5e-11 < 2e-16 < 2e-16 < 2e-16 < 2e-16 < 2e-16 < 2e-16\n",
       "22 < 2e-16 3.9e-10 5.0e-05 < 2e-16 0.13453 < 2e-16 < 2e-16 6.8e-11 < 2e-16\n",
       "23 < 2e-16 1.4e-05 0.27739 < 2e-16 1.1e-08 1.1e-05 1.00000 0.28352 1.00000\n",
       "   11      12      13      14      15      16      17      18      19     \n",
       "1  -       -       -       -       -       -       -       -       -      \n",
       "4  -       -       -       -       -       -       -       -       -      \n",
       "5  -       -       -       -       -       -       -       -       -      \n",
       "6  -       -       -       -       -       -       -       -       -      \n",
       "7  -       -       -       -       -       -       -       -       -      \n",
       "8  -       -       -       -       -       -       -       -       -      \n",
       "9  -       -       -       -       -       -       -       -       -      \n",
       "10 -       -       -       -       -       -       -       -       -      \n",
       "11 -       -       -       -       -       -       -       -       -      \n",
       "12 0.09970 -       -       -       -       -       -       -       -      \n",
       "13 < 2e-16 9.5e-13 -       -       -       -       -       -       -      \n",
       "14 < 2e-16 < 2e-16 0.13453 -       -       -       -       -       -      \n",
       "15 < 2e-16 < 2e-16 < 2e-16 < 2e-16 -       -       -       -       -      \n",
       "16 < 2e-16 < 2e-16 < 2e-16 < 2e-16 1.5e-15 -       -       -       -      \n",
       "17 < 2e-16 < 2e-16 < 2e-16 < 2e-16 < 2e-16 3.8e-12 -       -       -      \n",
       "18 < 2e-16 < 2e-16 < 2e-16 < 2e-16 1.00000 1.1e-10 < 2e-16 -       -      \n",
       "19 1.1e-10 0.00165 0.01329 9.6e-09 < 2e-16 < 2e-16 < 2e-16 < 2e-16 -      \n",
       "20 < 2e-16 < 2e-16 < 2e-16 < 2e-16 1.00000 5.2e-15 < 2e-16 1.00000 < 2e-16\n",
       "21 < 2e-16 < 2e-16 < 2e-16 < 2e-16 2.4e-06 0.22728 < 2e-16 0.00165 < 2e-16\n",
       "22 < 2e-16 < 2e-16 7.5e-08 0.02713 2.6e-05 < 2e-16 < 2e-16 1.3e-08 < 2e-16\n",
       "23 8.9e-07 0.06857 0.00996 5.0e-08 < 2e-16 < 2e-16 < 2e-16 < 2e-16 1.00000\n",
       "   20      21      22     \n",
       "1  -       -       -      \n",
       "4  -       -       -      \n",
       "5  -       -       -      \n",
       "6  -       -       -      \n",
       "7  -       -       -      \n",
       "8  -       -       -      \n",
       "9  -       -       -      \n",
       "10 -       -       -      \n",
       "11 -       -       -      \n",
       "12 -       -       -      \n",
       "13 -       -       -      \n",
       "14 -       -       -      \n",
       "15 -       -       -      \n",
       "16 -       -       -      \n",
       "17 -       -       -      \n",
       "18 -       -       -      \n",
       "19 -       -       -      \n",
       "20 -       -       -      \n",
       "21 3.9e-06 -       -      \n",
       "22 3.7e-05 < 2e-16 -      \n",
       "23 < 2e-16 < 2e-16 < 2e-16\n",
       "\n",
       "P value adjustment method: holm "
      ]
     },
     "metadata": {},
     "output_type": "display_data"
    },
    {
     "name": "stderr",
     "output_type": "stream",
     "text": [
      "\u001b[1m\u001b[22mSaving 7 x 7 in image\n"
     ]
    },
    {
     "data": {
      "image/png": "[encoded data removed]",
      "text/plain": [
       "plot without title"
      ]
     },
     "metadata": {
      "image/png": {
       "height": 420,
       "width": 420
      }
     },
     "output_type": "display_data"
    }
   ],
   "source": [
    "data_hour <- data_classified\n",
    "\n",
    "alpha <- 0.05\n",
    "output_path <- \"/Users/JonasIseli/Desktop\"\n",
    "\n",
    "# Überprüfung der Varianzhomogenität mittels Bartlett-Test\n",
    "result_bartlett <- bartlett.test(verspaetung ~hour, data = data_hour)\n",
    "\n",
    "if(result_bartlett$p.value < alpha) {\n",
    "    print('Reject H0: Variances are not equal')\n",
    "    print(\"Performing Welch's ANOVA\")\n",
    "    model <- oneway.test(verspaetung ~hour, data = data_hour)\n",
    "}else{\n",
    "    print('Accept H0: Variances are equal')\n",
    "    print(\"Performing ANOVA\")\n",
    "    model <- aov(verspaetung ~hour, data = data_hour)\n",
    "}\n",
    "model\n",
    "\n",
    "if(model$p.value < alpha) {\n",
    "    print('Reject H0: There is a significant difference between the groups')\n",
    "    print(\"Post Hoc test\")\n",
    "\n",
    "    post_hoc <- with(data_hour,\n",
    "         pairwise.t.test(verspaetung, hour))\n",
    "    post_hoc\n",
    "}else{\n",
    "    print('Accept H0: There is no significant difference between the groups')\n",
    "}\n",
    "\n",
    "post_hoc$p.value %>%\n",
    "    as_data_frame() %>% \n",
    "    rownames_to_column(var = \"hour\") %>% \n",
    "    write_csv(file.path(output_path,\"verspaetung_hour_post_hoc.csv\"))\n",
    "\n",
    "\n",
    "# Zusammenfassung\n",
    "data_hour %>% \n",
    "group_by(hour) %>% \n",
    "summarise(\n",
    "    mean = mean(verspaetung),\n",
    "    median = median(verspaetung),\n",
    "    sd = sd(verspaetung),\n",
    "    n = n()\n",
    "    ) %>%\n",
    "    # adjust path\n",
    "    write_csv(file.path(output_path, \"verspaetung_per_hour_summary.csv\"))\n",
    "\n",
    "# Prozent Anteile der Verspätungskategorien pro Stunde\n",
    "data_hour %>%\n",
    "    count(hour, verspaetung_cat) %>%\n",
    "    group_by(hour) %>%\n",
    "    mutate(\n",
    "        perc = round(n / sum(n)*100,2)\n",
    "    ) %>%\n",
    "    select(-n) %>%\n",
    "    pivot_wider(names_from = hour, values_from = perc) %>%\n",
    "    # adjust path\n",
    "    write_csv(file.path(output_path, \"verspaetung_cat_per_hour_percentage.csv\"))\n",
    "\n",
    "\n",
    "# Plot - Color Palette\n",
    "delay_colors <- c(\n",
    "  \"-1\" = \"#1f77b4\",  # Too Early\n",
    "  \"0\" = \"#2ca02c\",   # On Time\n",
    "  \"1\" = \"#ff7f0e\",   # Late\n",
    "  \"2\" = \"#d62728\"    # Very Late\n",
    ")\n",
    "\n",
    "# Plot\n",
    "data_hour %>%\n",
    "    ggplot(\n",
    "        aes(\n",
    "            x = hour,\n",
    "            fill = verspaetung_cat,\n",
    "        )\n",
    "    )+\n",
    "\n",
    "    geom_bar(\n",
    "        position = \"fill\"\n",
    "    )+\n",
    "\n",
    "    scale_y_continuous(\n",
    "        labels = scales::percent_format()\n",
    "    )+\n",
    "\n",
    "    scale_fill_manual(\n",
    "        name = \"\",\n",
    "        values = delay_colors,\n",
    "        labels = c(\"stark verspätet\", \"verspätet\", \"pünktlich\", \"zu früh\")\n",
    "    )+\n",
    "\n",
    "    labs(\n",
    "        title = \"Anteil der Verspätungen pro Uhrzeit\",\n",
    "        x = \"Uhrzeit\",\n",
    "        y = \"Anteile\"\n",
    "    )+\n",
    "\n",
    "    theme_bw()+\n",
    "\n",
    "    theme(\n",
    "        aspect.ratio = 0.5\n",
    "    )\n",
    "    # save plot\n",
    "    ggsave(\n",
    "        file.path(output_path, \"Plot_verspaetung_cat_per_hour_percentage.png\"),\n",
    "        dpi = 1000\n",
    "\n",
    "    )"
   ]
  },
  {
   "cell_type": "markdown",
   "metadata": {},
   "source": [
    "### Einfluss des Fahrzeugtyps auf die Verspätung"
   ]
  },
  {
   "cell_type": "code",
   "execution_count": null,
   "metadata": {
    "vscode": {
     "languageId": "r"
    }
   },
   "outputs": [
    {
     "name": "stdout",
     "output_type": "stream",
     "text": [
      "[1] \"Reject H0: Variances are not equal\"\n",
      "[1] \"Performing Welch's ANOVA\"\n"
     ]
    },
    {
     "data": {
      "text/plain": [
       "\n",
       "\tOne-way analysis of means (not assuming equal variances)\n",
       "\n",
       "data:  verspaetung and tramtyp_id\n",
       "F = 332.26, num df = 3.0, denom df = 1572.3, p-value < 2.2e-16\n"
      ]
     },
     "metadata": {},
     "output_type": "display_data"
    },
    {
     "name": "stdout",
     "output_type": "stream",
     "text": [
      "[1] \"Reject H0: There is a significant difference between the groups\"\n",
      "[1] \"Post Hoc test\"\n"
     ]
    },
    {
     "data": {
      "text/plain": [
       "\n",
       "\tPairwise comparisons using t tests with pooled SD \n",
       "\n",
       "data:  verspaetung and tramtyp_id \n",
       "\n",
       "  1      2      3     \n",
       "2 <2e-16 -      -     \n",
       "3 <2e-16 0.95   -     \n",
       "4 <2e-16 <2e-16 <2e-16\n",
       "\n",
       "P value adjustment method: holm "
      ]
     },
     "metadata": {},
     "output_type": "display_data"
    },
    {
     "name": "stderr",
     "output_type": "stream",
     "text": [
      "\u001b[1m\u001b[22mSaving 7 x 7 in image\n"
     ]
    },
    {
     "data": {
      "image/png": "[encoded data removed]",
      "text/plain": [
       "plot without title"
      ]
     },
     "metadata": {
      "image/png": {
       "height": 420,
       "width": 420
      }
     },
     "output_type": "display_data"
    }
   ],
   "source": [
    "data_fahrzeug <- data_classified %>% drop_na(tramtyp_id)\n",
    "\n",
    "# Überprüfung der Varianzhomogenität mittels Bartlett-Test\n",
    "result_bartlett <- bartlett.test(verspaetung ~tramtyp_id, data = data_fahrzeug)\n",
    "\n",
    "if(result_bartlett$p.value < alpha) {\n",
    "    print('Reject H0: Variances are not equal')\n",
    "    print(\"Performing Welch's ANOVA\")\n",
    "    model <- oneway.test(verspaetung ~tramtyp_id, data = data_fahrzeug)\n",
    "}else{\n",
    "    print('Accept H0: Variances are equal')\n",
    "    print(\"Performing ANOVA\")\n",
    "    model <- aov(verspaetung ~tramtyp_id, data = data_fahrzeug)\n",
    "}\n",
    "model\n",
    "\n",
    "if(model$p.value < alpha) {\n",
    "    print('Reject H0: There is a significant difference between the groups')\n",
    "    print(\"Post Hoc test\")\n",
    "\n",
    "    post_hoc <- with(data_fahrzeug,\n",
    "         pairwise.t.test(verspaetung, tramtyp_id))\n",
    "    post_hoc\n",
    "}else{\n",
    "    print('Accept H0: There is no significant difference between the groups')\n",
    "}\n",
    "\n",
    "post_hoc$p.value %>%\n",
    "    as_data_frame() %>% \n",
    "    rownames_to_column(var = \"tramtyp_id\") %>% \n",
    "    write_csv(file.path(output_path,\"verspaetung_tramtyp_id_post_hoc.csv\"))\n",
    "\n",
    "\n",
    "# Zusammenfassung\n",
    "data_fahrzeug %>% \n",
    "group_by(tramtyp_id) %>% \n",
    "summarise(\n",
    "    mean = mean(verspaetung),\n",
    "    median = median(verspaetung),\n",
    "    sd = sd(verspaetung),\n",
    "    n = n()\n",
    "    ) %>%\n",
    "    # adjust path\n",
    "    write_csv(file.path(output_path, \"verspaetung_per_tramtyp_id_summary.csv\"))\n",
    "\n",
    "# Prozent Anteile der Verspätungskategorien pro Stunde\n",
    "data_fahrzeug %>%\n",
    "    count(tramtyp_id, verspaetung_cat) %>%\n",
    "    group_by(tramtyp_id) %>%\n",
    "    mutate(\n",
    "        perc = round(n / sum(n)*100,2)\n",
    "    ) %>%\n",
    "    select(-n) %>%\n",
    "    pivot_wider(names_from = tramtyp_id, values_from = perc) %>%\n",
    "    # adjust path\n",
    "    write_csv(file.path(output_path, \"verspaetung_cat_per_tramtyp_id_percentage.csv\"))\n",
    "\n",
    "\n",
    "# Plot - Color Palette\n",
    "delay_colors <- c(\n",
    "  \"-1\" = \"#1f77b4\",  # Too Early\n",
    "  \"0\" = \"#2ca02c\",   # On Time\n",
    "  \"1\" = \"#ff7f0e\",   # Late\n",
    "  \"2\" = \"#d62728\"    # Very Late\n",
    ")\n",
    "\n",
    "# Plot\n",
    "data_fahrzeug %>%\n",
    "    ggplot(\n",
    "        aes(\n",
    "            x = tramtyp_id,\n",
    "            fill = verspaetung_cat,\n",
    "        )\n",
    "    )+\n",
    "\n",
    "    geom_bar(\n",
    "        position = \"fill\"\n",
    "    )+\n",
    "\n",
    "    scale_y_continuous(\n",
    "        labels = scales::percent_format()\n",
    "    )+\n",
    "\n",
    "    scale_x_discrete(\n",
    "        labels = c(\"Mirage\", \"Tram 2000\", \"Cobra\", \"Flexity\")\n",
    "    )+\n",
    "\n",
    "    scale_fill_manual(\n",
    "        name = \"\",\n",
    "        values = delay_colors,\n",
    "        labels = c(\"stark verspätet\", \"verspätet\", \"pünktlich\", \"zu früh\")\n",
    "    )+\n",
    "\n",
    "    labs(\n",
    "        title = \"Verspätung nach Tramtyp\",\n",
    "        x = \"\",\n",
    "        y = \"Anteile\"\n",
    "    )+\n",
    "\n",
    "    theme_bw()+\n",
    "\n",
    "    theme(\n",
    "        aspect.ratio = 0.5\n",
    "    )\n",
    "    # save plot\n",
    "    ggsave(\n",
    "        file.path(output_path, \"Plot_verspaetung_cat_per_tramtyp_id_percentage.png\"),\n",
    "        dpi = 1000\n",
    "\n",
    "    )"
   ]
  },
  {
   "cell_type": "code",
   "execution_count": null,
   "metadata": {
    "vscode": {
     "languageId": "r"
    }
   },
   "outputs": [],
   "source": []
  }
 ],
 "metadata": {
  "kernelspec": {
   "display_name": "R",
   "language": "R",
   "name": "ir"
  },
  "language_info": {
   "codemirror_mode": "r",
   "file_extension": ".r",
   "mimetype": "text/x-r-source",
   "name": "R",
   "pygments_lexer": "r",
   "version": "4.3.2"
  }
 },
 "nbformat": 4,
 "nbformat_minor": 2
}
