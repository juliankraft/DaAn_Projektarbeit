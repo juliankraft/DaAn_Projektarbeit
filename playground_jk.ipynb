{
 "cells": [
  {
   "cell_type": "code",
   "execution_count": 4,
   "metadata": {},
   "outputs": [],
   "source": [
    "import pycurl\n",
    "import json\n",
    "from io import BytesIO"
   ]
  },
  {
   "cell_type": "code",
   "execution_count": null,
   "metadata": {},
   "outputs": [],
   "source": [
    "def get_metadata(url, filter):   \n",
    "    # Initialize pycurl and set options\n",
    "    buffer = BytesIO()\n",
    "    c = pycurl.Curl()\n",
    "    c.setopt(c.URL, f'{url}package_search?q=title:{filter}')\n",
    "    c.setopt(c.WRITEDATA, buffer)\n",
    "\n",
    "    # Perform the request\n",
    "    c.perform()\n",
    "    c.close()\n",
    "\n",
    "    # Decode the JSON response and handle potential issues\n",
    "    response = buffer.getvalue().decode('utf-8')\n",
    "\n",
    "    # Check if the response is empty or not JSON\n",
    "    if not response.strip():\n",
    "        print(\"The response is empty.\")\n",
    "    else:\n",
    "        try:\n",
    "            data = json.loads(response)\n",
    "            # Check if the API request was successful\n",
    "            if data.get('success'):\n",
    "                return data\n",
    "            else:\n",
    "                print(\"API did not return a successful response:\", data)\n",
    "        except json.JSONDecodeError as e:\n",
    "            print(\"Failed to decode JSON:\", e)\n",
    "            print(\"Response content:\", response)\n",
    "\n",
    "def save_json(data, filename):\n",
    "    with open(filename, 'w') as json_file:\n",
    "        json.dump(data, json_file, indent=4)\n",
    "\n",
    "def filter_result_by_year(data, year):\n",
    "    for result in data['result']['results']:\n",
    "        if str(year) in result['name']:\n",
    "            return result\n",
    "        \n",
    "def get_resource_url_for_year(data, year):\n",
    "\n",
    "    combined_data = {\n",
    "        'data': [],\n",
    "        'metadata': []\n",
    "    }\n",
    "\n",
    "    result = filter_result_by_year(data, year)\n",
    "\n",
    "    for resource in result['resources']:\n",
    "        url = resource['url']\n",
    "        if \"Haltepunkt\" in url or \"Haltestelle\" in url:\n",
    "            combined_data['metadata'].append(url)\n",
    "        else:\n",
    "            combined_data['data'].append(url)\n",
    "\n",
    "    return combined_data\n"
   ]
  },
  {
   "cell_type": "code",
   "execution_count": 40,
   "metadata": {},
   "outputs": [],
   "source": [
    "url = \"https://ckan.opendata.swiss/api/3/action/\"\n",
    "filter = \"Fahrzeiten\"\n",
    "\n",
    "download_url = get_resource_url_for_year(get_metadata(url, filter), 2020)\n"
   ]
  }
 ],
 "metadata": {
  "kernelspec": {
   "display_name": "ds",
   "language": "python",
   "name": "python3"
  },
  "language_info": {
   "codemirror_mode": {
    "name": "ipython",
    "version": 3
   },
   "file_extension": ".py",
   "mimetype": "text/x-python",
   "name": "python",
   "nbconvert_exporter": "python",
   "pygments_lexer": "ipython3",
   "version": "3.11.10"
  }
 },
 "nbformat": 4,
 "nbformat_minor": 2
}
