{
 "cells": [
  {
   "cell_type": "code",
   "execution_count": 21,
   "metadata": {},
   "outputs": [],
   "source": [
    "import pycurl\n",
    "import json\n",
    "from io import BytesIO\n",
    "import pandas as pd\n",
    "import re"
   ]
  },
  {
   "cell_type": "code",
   "execution_count": null,
   "metadata": {},
   "outputs": [],
   "source": [
    "def get_metadata(url, filter):\n",
    "    \"\"\"\n",
    "    Get metadata from the opendata API.\n",
    "\n",
    "    Parameters:\n",
    "    url (str): The URL to the API.\n",
    "    filter (str): The filter to search for.\n",
    "\n",
    "    Returns:\n",
    "    dict: A JSON object containing the metadata if the request is successful.\n",
    "    None: If the request is not successful or the response is empty.\n",
    "    \"\"\"\n",
    "    buffer = BytesIO()\n",
    "    c = pycurl.Curl()\n",
    "    c.setopt(c.URL, f'{url}package_search?q=title:{filter}')\n",
    "    c.setopt(c.WRITEDATA, buffer)\n",
    "\n",
    "    c.perform()\n",
    "    c.close()\n",
    "\n",
    "    response = buffer.getvalue().decode('utf-8')\n",
    "\n",
    "    if not response.strip():\n",
    "        print(\"The response is empty.\")\n",
    "    else:\n",
    "        try:\n",
    "            data = json.loads(response)\n",
    "\n",
    "            if data.get('success'):\n",
    "                return data\n",
    "            else:\n",
    "                print(\"API did not return a successful response:\", data)\n",
    "        except json.JSONDecodeError as e:\n",
    "            print(\"Failed to decode JSON:\", e)\n",
    "            print(\"Response content:\", response)\n",
    "\n",
    "def save_json(data, filename):\n",
    "    with open(filename, 'w') as json_file:\n",
    "        json.dump(data, json_file, indent=4)\n",
    "\n",
    "def filter_result_by_year(data, year):\n",
    "    for result in data['result']['results']:\n",
    "        if str(year) in result['name']:\n",
    "            return result\n",
    "        \n",
    "def get_resource_url_for_year(data, year):\n",
    "    combined_data = {\n",
    "        'data': [],\n",
    "        'metadata': []\n",
    "    }\n",
    "\n",
    "    result = filter_result_by_year(data, year)\n",
    "\n",
    "    for resource in result['resources']:\n",
    "        url = resource['download_url']\n",
    "        if \"Haltepunkt\" in url or \"Haltestelle\" in url:\n",
    "            combined_data['metadata'].append(url)\n",
    "        else:\n",
    "            combined_data['data'].append(url)\n",
    "\n",
    "    return combined_data\n",
    "\n",
    "def pack_all_urls_into_one_dict(url, filter):\n",
    "    data = get_metadata(url, filter)\n",
    "\n",
    "    all_urls = {}\n",
    "\n",
    "    for dataset in data['result']['results']:\n",
    "        year = re.search(r'\\d{4}', dataset['name']).group(0)\n",
    "\n",
    "        all_urls[year] = get_resource_url_for_year(data, year)\n",
    "    \n",
    "    all_urls_sorted = dict(sorted(all_urls.items()))\n",
    "\n",
    "    return all_urls_sorted\n"
   ]
  },
  {
   "cell_type": "code",
   "execution_count": null,
   "metadata": {},
   "outputs": [],
   "source": [
    "url = \"https://ckan.opendata.swiss/api/3/action/\"\n",
    "filter = \"Fahrzeiten\"\n",
    "storage_options = {'User-Agent': 'Mozilla/5.0'}\n",
    "\n",
    "\n",
    "download_url = pack_all_urls_into_one_dict(url, filter)"
   ]
  },
  {
   "cell_type": "code",
   "execution_count": 24,
   "metadata": {},
   "outputs": [
    {
     "data": {
      "text/plain": [
       "dict_keys(['2015', '2016', '2017', '2018', '2019', '2020', '2021', '2022', '2023'])"
      ]
     },
     "execution_count": 24,
     "metadata": {},
     "output_type": "execute_result"
    }
   ],
   "source": [
    "download_url.keys()"
   ]
  },
  {
   "cell_type": "code",
   "execution_count": 25,
   "metadata": {},
   "outputs": [
    {
     "data": {
      "text/plain": [
       "'https://data.stadt-zuerich.ch/dataset/vbz_fahrzeiten_ogd_2019/download/Haltestelle.csv'"
      ]
     },
     "execution_count": 25,
     "metadata": {},
     "output_type": "execute_result"
    }
   ],
   "source": [
    "download_url['2019']['metadata'][0]"
   ]
  },
  {
   "cell_type": "code",
   "execution_count": 30,
   "metadata": {},
   "outputs": [],
   "source": [
    "df = pd.read_csv(download_url['2019']['metadata'][0], storage_options=storage_options)"
   ]
  },
  {
   "cell_type": "code",
   "execution_count": 27,
   "metadata": {},
   "outputs": [],
   "source": [
    "url = download_url['2018']['metadata'][0]"
   ]
  },
  {
   "cell_type": "code",
   "execution_count": 29,
   "metadata": {},
   "outputs": [
    {
     "data": {
      "text/html": [
       "<div>\n",
       "<style scoped>\n",
       "    .dataframe tbody tr th:only-of-type {\n",
       "        vertical-align: middle;\n",
       "    }\n",
       "\n",
       "    .dataframe tbody tr th {\n",
       "        vertical-align: top;\n",
       "    }\n",
       "\n",
       "    .dataframe thead th {\n",
       "        text-align: right;\n",
       "    }\n",
       "</style>\n",
       "<table border=\"1\" class=\"dataframe\">\n",
       "  <thead>\n",
       "    <tr style=\"text-align: right;\">\n",
       "      <th></th>\n",
       "      <th>halt_id</th>\n",
       "      <th>halt_diva</th>\n",
       "      <th>halt_kurz</th>\n",
       "      <th>halt_lang</th>\n",
       "      <th>halt_ist_aktiv</th>\n",
       "    </tr>\n",
       "  </thead>\n",
       "  <tbody>\n",
       "    <tr>\n",
       "      <th>0</th>\n",
       "      <td>143</td>\n",
       "      <td>2570</td>\n",
       "      <td>BirmSte</td>\n",
       "      <td>Birmensdorf ZH, Sternen/WSL</td>\n",
       "      <td>True</td>\n",
       "    </tr>\n",
       "    <tr>\n",
       "      <th>1</th>\n",
       "      <td>309</td>\n",
       "      <td>3356</td>\n",
       "      <td>WaldBir</td>\n",
       "      <td>Waldegg, Birmensdorferstrasse</td>\n",
       "      <td>True</td>\n",
       "    </tr>\n",
       "    <tr>\n",
       "      <th>2</th>\n",
       "      <td>373</td>\n",
       "      <td>6232</td>\n",
       "      <td>FRAF07</td>\n",
       "      <td>Zürich Flughafen, Fracht</td>\n",
       "      <td>True</td>\n",
       "    </tr>\n",
       "    <tr>\n",
       "      <th>3</th>\n",
       "      <td>539</td>\n",
       "      <td>2655</td>\n",
       "      <td>TBAH01</td>\n",
       "      <td>Thalwil, Bahnhof</td>\n",
       "      <td>True</td>\n",
       "    </tr>\n",
       "    <tr>\n",
       "      <th>4</th>\n",
       "      <td>588</td>\n",
       "      <td>3027</td>\n",
       "      <td>FLUG07</td>\n",
       "      <td>Zürich Flughafen, Bahnhof</td>\n",
       "      <td>True</td>\n",
       "    </tr>\n",
       "    <tr>\n",
       "      <th>...</th>\n",
       "      <td>...</td>\n",
       "      <td>...</td>\n",
       "      <td>...</td>\n",
       "      <td>...</td>\n",
       "      <td>...</td>\n",
       "    </tr>\n",
       "    <tr>\n",
       "      <th>725</th>\n",
       "      <td>3198</td>\n",
       "      <td>6999</td>\n",
       "      <td>TWÄR</td>\n",
       "      <td>Binz bei Maur, Twäracher</td>\n",
       "      <td>True</td>\n",
       "    </tr>\n",
       "    <tr>\n",
       "      <th>726</th>\n",
       "      <td>3206</td>\n",
       "      <td>7000</td>\n",
       "      <td>SMEU</td>\n",
       "      <td>Schlieren, Meuchwis</td>\n",
       "      <td>True</td>\n",
       "    </tr>\n",
       "    <tr>\n",
       "      <th>727</th>\n",
       "      <td>3217</td>\n",
       "      <td>7022</td>\n",
       "      <td>BAWO</td>\n",
       "      <td>Zürich, Bahnhof Wollishofen</td>\n",
       "      <td>True</td>\n",
       "    </tr>\n",
       "    <tr>\n",
       "      <th>728</th>\n",
       "      <td>3222</td>\n",
       "      <td>7021</td>\n",
       "      <td>SRAI</td>\n",
       "      <td>Spreitenbach, Raiacker</td>\n",
       "      <td>True</td>\n",
       "    </tr>\n",
       "    <tr>\n",
       "      <th>729</th>\n",
       "      <td>3225</td>\n",
       "      <td>7020</td>\n",
       "      <td>OSCH</td>\n",
       "      <td>Oetwil a.d.L., Schweizäcker</td>\n",
       "      <td>True</td>\n",
       "    </tr>\n",
       "  </tbody>\n",
       "</table>\n",
       "<p>730 rows × 5 columns</p>\n",
       "</div>"
      ],
      "text/plain": [
       "     halt_id  halt_diva halt_kurz                      halt_lang  \\\n",
       "0        143       2570   BirmSte    Birmensdorf ZH, Sternen/WSL   \n",
       "1        309       3356   WaldBir  Waldegg, Birmensdorferstrasse   \n",
       "2        373       6232    FRAF07       Zürich Flughafen, Fracht   \n",
       "3        539       2655    TBAH01               Thalwil, Bahnhof   \n",
       "4        588       3027    FLUG07      Zürich Flughafen, Bahnhof   \n",
       "..       ...        ...       ...                            ...   \n",
       "725     3198       6999      TWÄR       Binz bei Maur, Twäracher   \n",
       "726     3206       7000      SMEU            Schlieren, Meuchwis   \n",
       "727     3217       7022      BAWO    Zürich, Bahnhof Wollishofen   \n",
       "728     3222       7021      SRAI         Spreitenbach, Raiacker   \n",
       "729     3225       7020      OSCH    Oetwil a.d.L., Schweizäcker   \n",
       "\n",
       "     halt_ist_aktiv  \n",
       "0              True  \n",
       "1              True  \n",
       "2              True  \n",
       "3              True  \n",
       "4              True  \n",
       "..              ...  \n",
       "725            True  \n",
       "726            True  \n",
       "727            True  \n",
       "728            True  \n",
       "729            True  \n",
       "\n",
       "[730 rows x 5 columns]"
      ]
     },
     "execution_count": 29,
     "metadata": {},
     "output_type": "execute_result"
    }
   ],
   "source": [
    "df"
   ]
  },
  {
   "cell_type": "code",
   "execution_count": 11,
   "metadata": {},
   "outputs": [
    {
     "name": "stdout",
     "output_type": "stream",
     "text": [
      "2015\n",
      "2016\n",
      "https://data.stadt-zuerich.ch/dataset/vbz_fahrzeiten_ogd_2016/download/Haltepunkt.csv\n",
      "https://data.stadt-zuerich.ch/dataset/vbz_fahrzeiten_ogd_2016/download/Haltestelle.csv\n",
      "2017\n",
      "https://data.stadt-zuerich.ch/dataset/vbz_fahrzeiten_ogd_2017/download/Haltepunkt.csv\n",
      "https://data.stadt-zuerich.ch/dataset/vbz_fahrzeiten_ogd_2017/download/Haltestelle.csv\n",
      "2018\n",
      "https://data.stadt-zuerich.ch/dataset/vbz_fahrzeiten_ogd_2018/download/Haltestelle.csv\n",
      "https://data.stadt-zuerich.ch/dataset/vbz_fahrzeiten_ogd_2018/download/Haltepunkt.csv\n",
      "2019\n",
      "https://data.stadt-zuerich.ch/dataset/vbz_fahrzeiten_ogd_2019/download/Haltestelle.csv\n",
      "https://data.stadt-zuerich.ch/dataset/vbz_fahrzeiten_ogd_2019/download/Haltepunkt.csv\n",
      "2020\n",
      "https://data.stadt-zuerich.ch/dataset/vbz_fahrzeiten_ogd_2020/download/Haltestelle.csv\n",
      "https://data.stadt-zuerich.ch/dataset/vbz_fahrzeiten_ogd_2020/download/Haltepunkt.csv\n",
      "2021\n",
      "https://data.stadt-zuerich.ch/dataset/vbz_fahrzeiten_ogd_2021/download/Haltepunkt.csv\n",
      "https://data.stadt-zuerich.ch/dataset/vbz_fahrzeiten_ogd_2021/download/Haltestelle.csv\n",
      "2022\n",
      "https://data.stadt-zuerich.ch/dataset/vbz_fahrzeiten_ogd_2022/download/Haltepunkt.csv\n",
      "https://data.stadt-zuerich.ch/dataset/vbz_fahrzeiten_ogd_2022/download/Haltestelle.csv\n",
      "2023\n"
     ]
    }
   ],
   "source": [
    "for year in download_url:\n",
    "    print(year)\n",
    "    for url in download_url[year]['metadata']:\n",
    "        print(url)\n",
    "    "
   ]
  }
 ],
 "metadata": {
  "kernelspec": {
   "display_name": "Python 3",
   "language": "python",
   "name": "python3"
  },
  "language_info": {
   "codemirror_mode": {
    "name": "ipython",
    "version": 3
   },
   "file_extension": ".py",
   "mimetype": "text/x-python",
   "name": "python",
   "nbconvert_exporter": "python",
   "pygments_lexer": "ipython3",
   "version": "3.12.1"
  }
 },
 "nbformat": 4,
 "nbformat_minor": 2
}
